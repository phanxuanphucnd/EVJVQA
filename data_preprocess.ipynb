{
 "cells": [
  {
   "cell_type": "code",
   "execution_count": 21,
   "id": "f6cf34d5",
   "metadata": {},
   "outputs": [],
   "source": [
    "import csv\n",
    "import json\n",
    "import base64\n",
    "import pandas as pd\n",
    "from PIL import Image\n",
    "from io import BytesIO\n",
    "from tqdm.autonotebook import tqdm"
   ]
  },
  {
   "cell_type": "code",
   "execution_count": 22,
   "id": "620bcb5c",
   "metadata": {},
   "outputs": [],
   "source": [
    "with open('./data/train/evjvqa_train_lang-short-anw.json', 'r', encoding='utf-8') as f:\n",
    "    train_data = json.load(f)\n",
    "    \n",
    "images = train_data['images']\n",
    "annotations = train_data['annotations']"
   ]
  },
  {
   "cell_type": "code",
   "execution_count": 23,
   "id": "c78ae054",
   "metadata": {},
   "outputs": [],
   "source": [
    "data_dict = {\n",
    "    'question_id': [],\n",
    "    'image_id': [],\n",
    "    'question': [],\n",
    "    'answer': [],\n",
    "    'objects': [],\n",
    "    'image_base64': []\n",
    "}"
   ]
  },
  {
   "cell_type": "code",
   "execution_count": 24,
   "id": "2bedcef3",
   "metadata": {},
   "outputs": [],
   "source": [
    "def transform_base64(img_path):\n",
    "    img = Image.open(img_path)\n",
    "    img_buffer = BytesIO()\n",
    "    img.save(img_buffer, format=img.format)\n",
    "    byte_data = img_buffer.getvalue()\n",
    "    base64_str = base64.b64encode(byte_data) # bytes\n",
    "    base64_str = base64_str.decode(\"utf-8\") # str\n",
    "    \n",
    "    return base64_str"
   ]
  },
  {
   "cell_type": "code",
   "execution_count": 25,
   "id": "cf99dbd2",
   "metadata": {},
   "outputs": [
    {
     "data": {
      "application/vnd.jupyter.widget-view+json": {
       "model_id": "5e2f0d66a7724376b7411e708291c923",
       "version_major": 2,
       "version_minor": 0
      },
      "text/plain": [
       "  0%|          | 0/23785 [00:00<?, ?it/s]"
      ]
     },
     "metadata": {},
     "output_type": "display_data"
    }
   ],
   "source": [
    "question_id = []\n",
    "image_id = []\n",
    "question = []\n",
    "answer = []\n",
    "objects = []\n",
    "image_base64 = []\n",
    "\n",
    "for anno in tqdm(annotations):\n",
    "    if anno['language'] == 'en':\n",
    "        question_id.append(anno['id'])\n",
    "        image_id.append(anno['image_id'])\n",
    "        question.append(anno['question'])\n",
    "        answer.append(f\"1.0|!+{anno['answer']}\")\n",
    "        objects.append(None)\n",
    "        image_base64.append(transform_base64(anno['img_path']))"
   ]
  },
  {
   "cell_type": "code",
   "execution_count": 26,
   "id": "8af44a5e",
   "metadata": {},
   "outputs": [],
   "source": [
    "assert len(question_id) == len(question) == len(answer) == len(image_base64)"
   ]
  },
  {
   "cell_type": "code",
   "execution_count": 27,
   "id": "e232327a",
   "metadata": {},
   "outputs": [],
   "source": [
    "data_dict = {\n",
    "    'question_id': question_id,\n",
    "    'image_id': image_id,\n",
    "    'question': question,\n",
    "    'answer': answer,\n",
    "    'objects': objects,\n",
    "    'image_base64': image_base64\n",
    "}\n",
    "\n",
    "data_df = pd.DataFrame.from_dict(data_dict)"
   ]
  },
  {
   "cell_type": "code",
   "execution_count": 28,
   "id": "05109bf9",
   "metadata": {},
   "outputs": [],
   "source": [
    "# with open('./data/evjvqa.tsv', 'w', encoding='utf8', newline='') as f:\n",
    "#     tsv_writer = csv.writer(f, delimiter='\\t', lineterminator='\\n')\n",
    "#     for i in range(len(question_id)):\n",
    "#         tsv_writer.writerow([question_id, ima])\n",
    "    "
   ]
  },
  {
   "cell_type": "code",
   "execution_count": 29,
   "id": "6d0208b8",
   "metadata": {},
   "outputs": [],
   "source": [
    "data_df.to_csv('./data/evjvqa.tsv', sep=\"\\t\", index=False)"
   ]
  },
  {
   "cell_type": "code",
   "execution_count": null,
   "id": "81647035",
   "metadata": {},
   "outputs": [],
   "source": []
  }
 ],
 "metadata": {
  "kernelspec": {
   "display_name": "phucpx",
   "language": "python",
   "name": "phucpx"
  },
  "language_info": {
   "codemirror_mode": {
    "name": "ipython",
    "version": 3
   },
   "file_extension": ".py",
   "mimetype": "text/x-python",
   "name": "python",
   "nbconvert_exporter": "python",
   "pygments_lexer": "ipython3",
   "version": "3.7.1"
  }
 },
 "nbformat": 4,
 "nbformat_minor": 5
}
