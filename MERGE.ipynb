{
 "cells": [
  {
   "cell_type": "code",
   "execution_count": 1,
   "id": "002c9783",
   "metadata": {},
   "outputs": [
    {
     "name": "stderr",
     "output_type": "stream",
     "text": [
      "/home/phucpx/miniconda3/envs/phucpx/lib/python3.7/site-packages/ipykernel_launcher.py:2: TqdmExperimentalWarning: Using `tqdm.autonotebook.tqdm` in notebook mode. Use `tqdm.tqdm` instead to force console mode (e.g. in jupyter console)\n",
      "  \n"
     ]
    }
   ],
   "source": [
    "import json\n",
    "from tqdm.autonotebook import tqdm\n",
    "from evaluate_metrics import compute_f1, compute_avg_bleu"
   ]
  },
  {
   "cell_type": "code",
   "execution_count": 2,
   "id": "ab47d931",
   "metadata": {},
   "outputs": [
    {
     "data": {
      "application/vnd.jupyter.widget-view+json": {
       "model_id": "d0f763c3a2f94494af133ac19801d030",
       "version_major": 2,
       "version_minor": 0
      },
      "text/plain": [
       "  0%|          | 0/5015 [00:00<?, ?it/s]"
      ]
     },
     "metadata": {},
     "output_type": "display_data"
    },
    {
     "name": "stdout",
     "output_type": "stream",
     "text": [
      "5015 5015 5015\n"
     ]
    }
   ],
   "source": [
    "with open('./data/test/evjvqa_public_test-lang-qtype-answer.json', 'r', encoding='utf-8') as f:\n",
    "    test_data = json.load(f)\n",
    "    \n",
    "test_annotations = test_data['annotations']\n",
    "\n",
    "qid2lang = {}\n",
    "qid2qtype = {}\n",
    "\n",
    "for anno in tqdm(test_annotations):\n",
    "    qid2lang[str(anno['id'])] = anno['language']\n",
    "    qid2qtype[str(anno['id'])] = anno['question_type']\n",
    "    \n",
    "print(len(test_annotations), len(qid2lang), len(qid2qtype))\n",
    "\n",
    "with open('./outputs/groundtruth_results.json', 'r', encoding='utf-8') as f:\n",
    "    gt_results = json.load(f)"
   ]
  },
  {
   "cell_type": "code",
   "execution_count": 11,
   "id": "09f776b7",
   "metadata": {},
   "outputs": [],
   "source": [
    "with open('./outputs/result-how-many-vit-ofa.json', 'r', encoding='utf-8') as f:\n",
    "    combined_howmany = json.load(f)\n",
    "    \n",
    "with open('./outputs/results-lavis-aokvqa.json', 'r', encoding='utf-8') as f:\n",
    "    blip_aokvqa = json.load(f)\n",
    "    \n",
    "with open('./outputs/results-vit-ic-best-07-11.json', 'r', encoding='utf-8') as f:\n",
    "    vit_ic_en = json.load(f)\n",
    "    \n",
    "with open('./outputs/results-beit-best_ckpt-04-11-2022.json', 'r', encoding='utf-8') as f:\n",
    "    beit_best_0411 = json.load(f)\n",
    "    \n",
    "with open('./outputs/results-lavis-vqav2.json', 'r', encoding='utf-8') as f:\n",
    "    blip_vqav2 = json.load(f)\n",
    "    \n",
    "with open('./outputs/results-ofa-huge-finetuned.json', 'r', encoding='utf-8') as f:\n",
    "    ofa_finetuned = json.load(f)\n",
    "    \n",
    "with open('./outputs/results-ofa-huge-base.json', 'r', encoding='utf-8') as f:\n",
    "    ofa_huge = json.load(f)\n",
    "    \n",
    "with open('./outputs/results-clip-best-06-11.json', 'r', encoding='utf-8') as f:\n",
    "    clip_0611 = json.load(f)\n",
    "    \n",
    "with open('./outputs/results-mt5-vit.json', 'r', encoding='utf-8') as f:\n",
    "    vit = json.load(f)\n",
    "    \n",
    "with open('./outputs/results-clip-last-04-11-2022.json', 'r', encoding='utf-8') as f:\n",
    "    clip_last_0411 = json.load(f)\n",
    "    \n",
    "with open('./outputs/results-deit-best-06-11.json', 'r', encoding='utf-8') as f:\n",
    "    deit = json.load(f)\n",
    "    \n",
    "with open('./outputs/results-beit-best-08-11-2022.json', 'r', encoding='utf-8') as f:\n",
    "    beit_best_0811 = json.load(f)\n",
    "    \n",
    "with open('./outputs/results-swin-ic-ja-08-11.json', 'r', encoding='utf-8') as f:\n",
    "    swin_ic_ja = json.load(f)\n",
    "    \n",
    "with open('./outputs/results-clip-best-subset-06-11-2022.json', 'r', encoding='utf-8') as f:\n",
    "    clip_bestsub_0611 = json.load(f)"
   ]
  },
  {
   "cell_type": "code",
   "execution_count": 12,
   "id": "caf4c341",
   "metadata": {},
   "outputs": [],
   "source": [
    "selection_dict = {\n",
    "    'en': {\n",
    "        'HOW_MANY': combined_howmany,\n",
    "        'WHAT_COLOR': blip_aokvqa,\n",
    "        'WHERE': vit_ic_en,\n",
    "        'WHO': beit_best_0411,\n",
    "        'HOW': blip_vqav2,\n",
    "        'WHAT_IS': ofa_finetuned,\n",
    "        'WHAT_DO': ofa_finetuned,\n",
    "        'WHICH': vit_ic_en,\n",
    "        'OTHERS': ofa_huge,\n",
    "        \n",
    "    },\n",
    "    'vi': {\n",
    "        'HOW_MANY': combined_howmany,\n",
    "        'WHAT_COLOR': vit_ic_en,\n",
    "        'WHERE': clip_0611,\n",
    "        'WHO': beit_best_0411,\n",
    "        'HOW': vit,\n",
    "        'WHAT_IS': vit_ic_en,\n",
    "        'WHAT_DO': vit,\n",
    "        'OTHERS': vit,\n",
    "        \n",
    "    },\n",
    "    'ja': {\n",
    "        'HOW_MANY': combined_howmany,\n",
    "        'WHAT_COLOR': clip_last_0411,\n",
    "        'WHERE': deit,\n",
    "        'WHO': vit,\n",
    "        'HOW': vit,\n",
    "        'WHAT_IS': beit_best_0811,\n",
    "        'WHAT_DO': beit_best_0811,\n",
    "        'WHICH': swin_ic_ja,\n",
    "        'OTHERS': clip_bestsub_0611,\n",
    "        \n",
    "    }\n",
    "}"
   ]
  },
  {
   "cell_type": "code",
   "execution_count": 17,
   "id": "8d1a3788",
   "metadata": {},
   "outputs": [
    {
     "data": {
      "application/vnd.jupyter.widget-view+json": {
       "model_id": "fa1404fc6be04ce38e6d5a1415311fb3",
       "version_major": 2,
       "version_minor": 0
      },
      "text/plain": [
       "  0%|          | 0/5015 [00:00<?, ?it/s]"
      ]
     },
     "metadata": {},
     "output_type": "display_data"
    }
   ],
   "source": [
    "result_dict = {}\n",
    "\n",
    "for i in tqdm(range(len(test_annotations))):\n",
    "    anno = test_annotations[i]\n",
    "    \n",
    "    idx = anno['id']\n",
    "    lang = anno['language']\n",
    "    question_type = anno['question_type']\n",
    "    \n",
    "    result_dict[str(idx)] = selection_dict[lang][question_type][str(idx)]"
   ]
  },
  {
   "cell_type": "code",
   "execution_count": 18,
   "id": "560394b7",
   "metadata": {},
   "outputs": [
    {
     "name": "stdout",
     "output_type": "stream",
     "text": [
      "Metrics of Language=ja: F1 = 0.29903177158997724 and Bleu = 0.21819893426504072\n"
     ]
    }
   ],
   "source": [
    "f1 = compute_f1(a_gold=gt_results, a_pred=result_dict)\n",
    "bleu = compute_avg_bleu(a_gold=gt_results, a_pred=result_dict)\n",
    "\n",
    "print(f\"Metrics of Language={lang}: F1 = {f1} and Bleu = {bleu}\")"
   ]
  },
  {
   "cell_type": "code",
   "execution_count": null,
   "id": "e59cef87",
   "metadata": {},
   "outputs": [],
   "source": []
  }
 ],
 "metadata": {
  "kernelspec": {
   "display_name": "phucpx",
   "language": "python",
   "name": "phucpx"
  },
  "language_info": {
   "codemirror_mode": {
    "name": "ipython",
    "version": 3
   },
   "file_extension": ".py",
   "mimetype": "text/x-python",
   "name": "python",
   "nbconvert_exporter": "python",
   "pygments_lexer": "ipython3",
   "version": "3.7.1"
  }
 },
 "nbformat": 4,
 "nbformat_minor": 5
}
