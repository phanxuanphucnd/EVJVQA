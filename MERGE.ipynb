{
 "cells": [
  {
   "cell_type": "code",
   "execution_count": 1,
   "id": "596a632a",
   "metadata": {},
   "outputs": [
    {
     "name": "stderr",
     "output_type": "stream",
     "text": [
      "/home/phucpx/miniconda3/envs/phucpx/lib/python3.7/site-packages/ipykernel_launcher.py:2: TqdmExperimentalWarning: Using `tqdm.autonotebook.tqdm` in notebook mode. Use `tqdm.tqdm` instead to force console mode (e.g. in jupyter console)\n",
      "  \n"
     ]
    }
   ],
   "source": [
    "import json\n",
    "from tqdm.autonotebook import tqdm\n",
    "from evaluate_metrics import compute_f1, compute_avg_bleu"
   ]
  },
  {
   "cell_type": "markdown",
   "id": "cdb10e41",
   "metadata": {},
   "source": [
    "## Public-test"
   ]
  },
  {
   "cell_type": "code",
   "execution_count": 8,
   "id": "069f8256",
   "metadata": {},
   "outputs": [
    {
     "data": {
      "application/vnd.jupyter.widget-view+json": {
       "model_id": "eb8801dff1d34c8b90b6ee319fb8d53f",
       "version_major": 2,
       "version_minor": 0
      },
      "text/plain": [
       "  0%|          | 0/5015 [00:00<?, ?it/s]"
      ]
     },
     "metadata": {},
     "output_type": "display_data"
    },
    {
     "name": "stdout",
     "output_type": "stream",
     "text": [
      "5015 5015 5015\n"
     ]
    }
   ],
   "source": [
    "with open('./data/test/evjvqa_public_test-lang-qtype-answer.json', 'r', encoding='utf-8') as f:\n",
    "    test_data = json.load(f)\n",
    "    \n",
    "test_annotations = test_data['annotations']\n",
    "\n",
    "qid2lang = {}\n",
    "qid2qtype = {}\n",
    "\n",
    "for anno in tqdm(test_annotations):\n",
    "    qid2lang[str(anno['id'])] = anno['language']\n",
    "    qid2qtype[str(anno['id'])] = anno['question_type']\n",
    "    \n",
    "print(len(test_annotations), len(qid2lang), len(qid2qtype))\n",
    "\n",
    "with open('./outputs/groundtruth_results.json', 'r', encoding='utf-8') as f:\n",
    "    gt_results = json.load(f)"
   ]
  },
  {
   "cell_type": "code",
   "execution_count": 14,
   "id": "c4fc8a43",
   "metadata": {},
   "outputs": [],
   "source": [
    "with open('./outputs/public-test/results-how-many-vit-ofa.json', 'r', encoding='utf-8') as f:\n",
    "    combined_howmany = json.load(f)\n",
    "    \n",
    "with open('./outputs/public-test/results-what_color-ofa.json', 'r', encoding='utf-8') as f:\n",
    "    combined_whatcolor = json.load(f)\n",
    "    \n",
    "with open('./outputs/public-test/results-lavis-aokvqa.json', 'r', encoding='utf-8') as f:\n",
    "    blip_aokvqa = json.load(f)\n",
    "    \n",
    "with open('./outputs/public-test/results-vit-ic-best-07-11.json', 'r', encoding='utf-8') as f:\n",
    "    vit_ic_en_0711 = json.load(f)\n",
    "    \n",
    "with open('./outputs/public-test/results-vit-ic-best-08-11.json', 'r', encoding='utf-8') as f:\n",
    "    vit_ic_en_0811 = json.load(f)\n",
    "    \n",
    "with open('./outputs/public-test/results-beit-best_ckpt-04-11-2022.json', 'r', encoding='utf-8') as f:\n",
    "    beit_best_0411 = json.load(f)\n",
    "    \n",
    "with open('./outputs/public-test/results-lavis-vqav2.json', 'r', encoding='utf-8') as f:\n",
    "    blip_vqav2 = json.load(f)\n",
    "    \n",
    "with open('./outputs/public-test/results-ofa-huge-finetuned.json', 'r', encoding='utf-8') as f:\n",
    "    ofa_finetuned = json.load(f)\n",
    "    \n",
    "with open('./outputs/public-test/results-ofa-huge-base.json', 'r', encoding='utf-8') as f:\n",
    "    ofa_huge = json.load(f)\n",
    "    \n",
    "with open('./outputs/public-test/results-clip-best-06-11.json', 'r', encoding='utf-8') as f:\n",
    "    clip_0611 = json.load(f)\n",
    "    \n",
    "with open('./outputs/public-test/results-mt5-vit.json', 'r', encoding='utf-8') as f:\n",
    "    vit = json.load(f)\n",
    "    \n",
    "with open('./outputs/public-test/results-clip-last-04-11-2022.json', 'r', encoding='utf-8') as f:\n",
    "    clip_last_0411 = json.load(f)\n",
    "    \n",
    "with open('./outputs/public-test/results-deit-best-06-11.json', 'r', encoding='utf-8') as f:\n",
    "    deit = json.load(f)\n",
    "    \n",
    "with open('./outputs/public-test/results-beit-best-08-11-2022.json', 'r', encoding='utf-8') as f:\n",
    "    beit_best_0811 = json.load(f)\n",
    "    \n",
    "with open('./outputs/public-test/results-swin-ic-ja-08-11.json', 'r', encoding='utf-8') as f:\n",
    "    swin_ic_ja = json.load(f)\n",
    "    \n",
    "with open('./outputs/public-test/results-clip-best-subset-06-11-2022.json', 'r', encoding='utf-8') as f:\n",
    "    clip_bestsub_0611 = json.load(f)\n",
    "    \n",
    "with open('./outputs/public-test/results-deit-best-06-11.json', 'r', encoding='utf-8') as f:\n",
    "    deit = json.load(f)"
   ]
  },
  {
   "cell_type": "markdown",
   "id": "842534e5",
   "metadata": {},
   "source": [
    "### SUBMITION 1"
   ]
  },
  {
   "cell_type": "code",
   "execution_count": 4,
   "id": "3aa64b59",
   "metadata": {},
   "outputs": [],
   "source": [
    "selection_dict = {\n",
    "    'en': {\n",
    "        'HOW_MANY': combined_howmany,\n",
    "        'WHAT_COLOR': combined_whatcolor,\n",
    "        'WHERE': vit_ic_en_0711,\n",
    "        'WHO': beit_best_0411,\n",
    "        'HOW': blip_vqav2,\n",
    "        'WHAT_IS': ofa_finetuned,\n",
    "        'WHAT_DO': ofa_finetuned,\n",
    "        'WHICH': vit_ic_en_0711,\n",
    "        'OTHERS': ofa_huge,\n",
    "        \n",
    "    },\n",
    "    'vi': {\n",
    "        'HOW_MANY': combined_howmany,\n",
    "        'WHAT_COLOR': vit_ic_en_0711,\n",
    "        'WHERE': vit,\n",
    "        'WHO': beit_best_0411,\n",
    "        'HOW': vit,\n",
    "        'WHAT_IS': vit_ic_en_0711,\n",
    "        'WHAT_DO': vit,\n",
    "        'OTHERS': vit,\n",
    "        \n",
    "    },\n",
    "    'ja': {\n",
    "        'HOW_MANY': combined_howmany,\n",
    "        'WHAT_COLOR': beit_best_0811,\n",
    "        'WHERE': deit,\n",
    "        'WHO': clip_bestsub_0611,\n",
    "        'HOW': swin_ic_ja,\n",
    "        'WHAT_IS': vit_ic_en_0811,\n",
    "        'WHAT_DO': beit_best_0811,\n",
    "        'WHICH': vit,\n",
    "        'OTHERS': clip_bestsub_0611,\n",
    "        \n",
    "    }\n",
    "}"
   ]
  },
  {
   "cell_type": "markdown",
   "id": "3bdb5236",
   "metadata": {},
   "source": [
    "### SUBMITION 2"
   ]
  },
  {
   "cell_type": "code",
   "execution_count": 10,
   "id": "0942522e",
   "metadata": {},
   "outputs": [],
   "source": [
    "selection_dict = {\n",
    "    'en': {\n",
    "        'HOW_MANY': combined_howmany,\n",
    "        'WHAT_COLOR': combined_whatcolor,\n",
    "        'WHERE': vit_ic_en_0711,\n",
    "        'WHO': beit_best_0411,\n",
    "        'HOW': blip_vqav2,\n",
    "        'WHAT_IS': ofa_finetuned,\n",
    "        'WHAT_DO': ofa_finetuned,\n",
    "        'WHICH': vit_ic_en_0711,\n",
    "        'OTHERS': ofa_finetuned,\n",
    "        \n",
    "    },\n",
    "    'vi': {\n",
    "        'HOW_MANY': combined_howmany,\n",
    "        'WHAT_COLOR': vit_ic_en_0711,\n",
    "        'WHERE': vit,\n",
    "        'WHO': beit_best_0411,\n",
    "        'HOW': vit,\n",
    "        'WHAT_IS': vit_ic_en_0711,\n",
    "        'WHAT_DO': vit,\n",
    "        'OTHERS': vit,\n",
    "        \n",
    "    },\n",
    "    'ja': {\n",
    "        'HOW_MANY': combined_howmany,\n",
    "        'WHAT_COLOR': beit_best_0811,\n",
    "        'WHERE': deit,\n",
    "        'WHO': clip_bestsub_0611,\n",
    "        'HOW': swin_ic_ja,\n",
    "        'WHAT_IS': vit_ic_en_0811,\n",
    "        'WHAT_DO': beit_best_0811,\n",
    "        'WHICH': swin_ic_ja,\n",
    "        'OTHERS': clip_bestsub_0611,\n",
    "        \n",
    "    }\n",
    "}\n"
   ]
  },
  {
   "cell_type": "markdown",
   "id": "18ffcca6",
   "metadata": {},
   "source": [
    "### SUBMITION 3"
   ]
  },
  {
   "cell_type": "code",
   "execution_count": 16,
   "id": "335d5639",
   "metadata": {},
   "outputs": [],
   "source": [
    "selection_dict = {\n",
    "    'en': {\n",
    "        'HOW_MANY': combined_howmany,\n",
    "        'WHAT_COLOR': combined_whatcolor,\n",
    "        'WHERE': vit_ic_en_0711,\n",
    "        'WHO': vit_ic_en_0711,\n",
    "        'HOW': blip_vqav2,\n",
    "        'WHAT_IS': ofa_finetuned,\n",
    "        'WHAT_DO': vit_ic_en_0711,\n",
    "        'WHICH': vit_ic_en_0711,\n",
    "        'OTHERS': ofa_finetuned,\n",
    "        \n",
    "    },\n",
    "    'vi': {\n",
    "        'HOW_MANY': combined_howmany,\n",
    "        'WHAT_COLOR': vit_ic_en_0711,\n",
    "        'WHERE': vit_ic_en_0711,\n",
    "        'WHO': beit_best_0411,\n",
    "        'HOW': vit_ic_en_0711,\n",
    "        'WHAT_IS': vit_ic_en_0811,\n",
    "        'WHAT_DO': vit_ic_en_0711,\n",
    "        'OTHERS': vit_ic_en_0711,\n",
    "        \n",
    "    },\n",
    "    'ja': {\n",
    "        'HOW_MANY': combined_howmany,\n",
    "        'WHAT_COLOR': vit_ic_en_0711,\n",
    "        'WHERE': vit_ic_en_0711,\n",
    "        'WHO': clip_bestsub_0611,\n",
    "        'HOW': vit_ic_en_0711,\n",
    "        'WHAT_IS': vit_ic_en_0711,\n",
    "        'WHAT_DO': vit_ic_en_0711,\n",
    "        'WHICH': vit_ic_en_0711,\n",
    "        'OTHERS': vit_ic_en_0711,\n",
    "        \n",
    "    }\n",
    "}"
   ]
  },
  {
   "cell_type": "code",
   "execution_count": 17,
   "id": "6d5256f7",
   "metadata": {},
   "outputs": [
    {
     "data": {
      "application/vnd.jupyter.widget-view+json": {
       "model_id": "5482a4dd86634a87806ecc10461b939d",
       "version_major": 2,
       "version_minor": 0
      },
      "text/plain": [
       "  0%|          | 0/5015 [00:00<?, ?it/s]"
      ]
     },
     "metadata": {},
     "output_type": "display_data"
    }
   ],
   "source": [
    "result_dict = {}\n",
    "\n",
    "for i in tqdm(range(len(test_annotations))):\n",
    "    anno = test_annotations[i]\n",
    "    \n",
    "    idx = anno['id']\n",
    "    lang = anno['language']\n",
    "    question_type = anno['question_type']\n",
    "    \n",
    "    result_dict[str(idx)] = selection_dict[lang][question_type][str(idx)]"
   ]
  },
  {
   "cell_type": "code",
   "execution_count": 18,
   "id": "6b566b33",
   "metadata": {},
   "outputs": [
    {
     "name": "stdout",
     "output_type": "stream",
     "text": [
      "Metrics of Language=ja: F1 = 0.276092584825343 and Bleu = 0.19378048880012666\n"
     ]
    }
   ],
   "source": [
    "f1 = compute_f1(a_gold=gt_results, a_pred=result_dict)\n",
    "bleu = compute_avg_bleu(a_gold=gt_results, a_pred=result_dict)\n",
    "\n",
    "print(f\"Metrics of Language={lang}: F1 = {f1} and Bleu = {bleu}\")"
   ]
  },
  {
   "cell_type": "code",
   "execution_count": 19,
   "id": "1f2c2f92",
   "metadata": {},
   "outputs": [],
   "source": [
    "with open('./submition/model_3_public_test.json', 'w', encoding='utf-8') as f:\n",
    "    json.dump(result_dict, f, indent=4, ensure_ascii=False)"
   ]
  },
  {
   "cell_type": "markdown",
   "id": "60ae1831",
   "metadata": {},
   "source": [
    "## Private-test"
   ]
  },
  {
   "cell_type": "markdown",
   "id": "dfc0f328",
   "metadata": {},
   "source": [
    "### SUBMITION 1"
   ]
  },
  {
   "cell_type": "code",
   "execution_count": 2,
   "id": "5aba9b56",
   "metadata": {},
   "outputs": [
    {
     "data": {
      "application/vnd.jupyter.widget-view+json": {
       "model_id": "320bf426419f4b72abb72d9c8ea63237",
       "version_major": 2,
       "version_minor": 0
      },
      "text/plain": [
       "  0%|          | 0/10000 [00:00<?, ?it/s]"
      ]
     },
     "metadata": {},
     "output_type": "display_data"
    },
    {
     "name": "stdout",
     "output_type": "stream",
     "text": [
      "10000 10000 10000\n"
     ]
    }
   ],
   "source": [
    "with open('./data/private-test/evjvqa_private_test-desc-lang-qtype.json', 'r', encoding='utf-8') as f:\n",
    "    ptest_data = json.load(f)\n",
    "    \n",
    "ptest_annotations = ptest_data['annotations']\n",
    "\n",
    "qid2lang = {}\n",
    "qid2qtype = {}\n",
    "\n",
    "for anno in tqdm(ptest_annotations):\n",
    "    qid2lang[str(anno['id'])] = anno['language']\n",
    "    qid2qtype[str(anno['id'])] = anno['question_type']\n",
    "    \n",
    "print(len(ptest_annotations), len(qid2lang), len(qid2qtype))"
   ]
  },
  {
   "cell_type": "code",
   "execution_count": 3,
   "id": "0d917bb5",
   "metadata": {},
   "outputs": [],
   "source": [
    "with open('./outputs/private-test/results-how-many-vit-ofa.json', 'r', encoding='utf-8') as f:\n",
    "    combined_howmany = json.load(f)\n",
    "    \n",
    "with open('./outputs/private-test/results-what_color-ofa.json', 'r', encoding='utf-8') as f:\n",
    "    combined_whatcolor = json.load(f)\n",
    "    \n",
    "with open('./outputs/private-test/results-ofa-huge-finetuned.json', 'r', encoding='utf-8') as f:\n",
    "    ofa_finetuned = json.load(f)\n",
    "    \n",
    "with open('./outputs/private-test/results-ofa-huge-base.json', 'r', encoding='utf-8') as f:\n",
    "    ofa_huge = json.load(f)\n",
    "    \n",
    "with open('./outputs/private-test/results-lavis-aokvqa.json', 'r', encoding='utf-8') as f:\n",
    "    blip_aokvqa = json.load(f)\n",
    "    \n",
    "with open('./outputs/private-test/results-vit-ic-en-best-07-11.json', 'r', encoding='utf-8') as f:\n",
    "    vit_ic_en_0711 = json.load(f)\n",
    "    \n",
    "with open('./outputs/private-test/results-vit-ic-en-best-08-11.json', 'r', encoding='utf-8') as f:\n",
    "    vit_ic_en_0811 = json.load(f)\n",
    "    \n",
    "with open('./outputs/private-test/results-swin-ic-ja-best-08-11.json', 'r', encoding='utf-8') as f:\n",
    "    swin_ic_ja = json.load(f)\n",
    "    \n",
    "with open('./outputs/private-test/results-beit-best-04-11.json', 'r', encoding='utf-8') as f:\n",
    "    beit_best_0411 = json.load(f)\n",
    "    \n",
    "with open('./outputs/private-test/results-beit-best-08-11.json', 'r', encoding='utf-8') as f:\n",
    "    beit_best_0811 = json.load(f)\n",
    "    \n",
    "with open('./outputs/private-test/results-lavis-vqav2.json', 'r', encoding='utf-8') as f:\n",
    "    blip_vqav2 = json.load(f)\n",
    "    \n",
    "with open('./outputs/private-test/results-clip-best-06-11.json', 'r', encoding='utf-8') as f:\n",
    "    clip_0611 = json.load(f)\n",
    "    \n",
    "with open('./outputs/private-test/results-vit-trith.json', 'r', encoding='utf-8') as f:\n",
    "    vit = json.load(f)\n",
    "    \n",
    "with open('./outputs/private-test/results-clip-last-04-11.json', 'r', encoding='utf-8') as f:\n",
    "    clip_last_0411 = json.load(f)\n",
    "    \n",
    "with open('./outputs/private-test/results-clip-best-subset-06-11.json', 'r', encoding='utf-8') as f:\n",
    "    clip_bestsub_0611 = json.load(f)\n",
    "    \n",
    "with open('./outputs/private-test/results-deit-best.json', 'r', encoding='utf-8') as f:\n",
    "    deit = json.load(f)\n",
    "    \n",
    "with open('./outputs/private-test/results-vit-overfit-11-11.json', 'r', encoding='utf-8') as f:\n",
    "    vit_overfit = json.load(f)\n",
    "    \n",
    "with open('./outputs/private-test/results-vit-ic-en-overfit-10-11.json', 'r', encoding='utf-8') as f:\n",
    "    vit_ic_overfit = json.load(f)"
   ]
  },
  {
   "cell_type": "code",
   "execution_count": 4,
   "id": "ef0c3a9b",
   "metadata": {},
   "outputs": [],
   "source": [
    "selection_dict = {\n",
    "    'en': {\n",
    "        'HOW_MANY': combined_howmany,\n",
    "        'WHAT_COLOR': combined_whatcolor,\n",
    "        'WHERE': vit_ic_en_0711,\n",
    "        'WHO': beit_best_0411,\n",
    "        'HOW': blip_vqav2,\n",
    "        'WHAT_IS': ofa_finetuned,\n",
    "        'WHAT_DO': ofa_finetuned,\n",
    "        'WHICH': vit_ic_en_0711,\n",
    "        'OTHERS': ofa_huge,\n",
    "        \n",
    "    },\n",
    "    'vi': {\n",
    "        'HOW_MANY': combined_howmany,\n",
    "        'WHAT_COLOR': vit_ic_en_0711,\n",
    "        'WHERE': vit,\n",
    "        'WHO': beit_best_0411,\n",
    "        'HOW': vit,\n",
    "        'WHAT_IS': vit_ic_en_0711,\n",
    "        'WHAT_DO': vit,\n",
    "        'OTHERS': vit,\n",
    "        \n",
    "    },\n",
    "    'ja': {\n",
    "        'HOW_MANY': combined_howmany,\n",
    "        'WHAT_COLOR': beit_best_0811,\n",
    "        'WHERE': deit,\n",
    "        'WHO': clip_bestsub_0611,\n",
    "        'HOW': swin_ic_ja,\n",
    "        'WHAT_IS': vit_ic_en_0811,\n",
    "        'WHAT_DO': beit_best_0811,\n",
    "        'WHICH': vit,\n",
    "        'OTHERS': clip_bestsub_0611,\n",
    "        \n",
    "    }\n",
    "}"
   ]
  },
  {
   "cell_type": "code",
   "execution_count": 5,
   "id": "82931790",
   "metadata": {},
   "outputs": [
    {
     "data": {
      "application/vnd.jupyter.widget-view+json": {
       "model_id": "2917e28123ab4264a534e1df09bd9a09",
       "version_major": 2,
       "version_minor": 0
      },
      "text/plain": [
       "  0%|          | 0/10000 [00:00<?, ?it/s]"
      ]
     },
     "metadata": {},
     "output_type": "display_data"
    }
   ],
   "source": [
    "result_dict = {}\n",
    "\n",
    "for i in tqdm(range(len(ptest_annotations))):\n",
    "    anno = ptest_annotations[i]\n",
    "    \n",
    "    idx = anno['id']\n",
    "    lang = anno['language']\n",
    "    question_type = anno['question_type']\n",
    "    \n",
    "    result_dict[str(idx)] = selection_dict[lang][question_type][str(idx)]"
   ]
  },
  {
   "cell_type": "code",
   "execution_count": 6,
   "id": "fd1336df",
   "metadata": {},
   "outputs": [],
   "source": [
    "with open('./submition/model_1_private_test.json', 'w', encoding='utf-8') as f:\n",
    "    json.dump(result_dict, f, indent=4, ensure_ascii=False)"
   ]
  },
  {
   "cell_type": "markdown",
   "id": "e7d483f3",
   "metadata": {},
   "source": [
    "### SUBMITION 2"
   ]
  },
  {
   "cell_type": "code",
   "execution_count": 7,
   "id": "99793fe8",
   "metadata": {},
   "outputs": [
    {
     "data": {
      "application/vnd.jupyter.widget-view+json": {
       "model_id": "6c8638559b2e464493c339c2e53f277c",
       "version_major": 2,
       "version_minor": 0
      },
      "text/plain": [
       "  0%|          | 0/10000 [00:00<?, ?it/s]"
      ]
     },
     "metadata": {},
     "output_type": "display_data"
    }
   ],
   "source": [
    "selection_dict = {\n",
    "    'en': {\n",
    "        'HOW_MANY': combined_howmany,\n",
    "        'WHAT_COLOR': combined_whatcolor,\n",
    "        'WHERE': vit_ic_en_0711,\n",
    "        'WHO': beit_best_0411,\n",
    "        'HOW': blip_vqav2,\n",
    "        'WHAT_IS': ofa_finetuned,\n",
    "        'WHAT_DO': ofa_finetuned,\n",
    "        'WHICH': vit_ic_en_0711,\n",
    "        'OTHERS': ofa_finetuned,\n",
    "        \n",
    "    },\n",
    "    'vi': {\n",
    "        'HOW_MANY': combined_howmany,\n",
    "        'WHAT_COLOR': vit_ic_en_0711,\n",
    "        'WHERE': vit,\n",
    "        'WHO': beit_best_0411,\n",
    "        'HOW': vit,\n",
    "        'WHAT_IS': vit_ic_en_0711,\n",
    "        'WHAT_DO': vit,\n",
    "        'OTHERS': vit,\n",
    "        \n",
    "    },\n",
    "    'ja': {\n",
    "        'HOW_MANY': combined_howmany,\n",
    "        'WHAT_COLOR': beit_best_0811,\n",
    "        'WHERE': deit,\n",
    "        'WHO': clip_bestsub_0611,\n",
    "        'HOW': swin_ic_ja,\n",
    "        'WHAT_IS': vit_ic_en_0811,\n",
    "        'WHAT_DO': beit_best_0811,\n",
    "        'WHICH': swin_ic_ja,\n",
    "        'OTHERS': clip_bestsub_0611,\n",
    "        \n",
    "    }\n",
    "}\n",
    "\n",
    "result_dict = {}\n",
    "\n",
    "for i in tqdm(range(len(ptest_annotations))):\n",
    "    anno = ptest_annotations[i]\n",
    "    \n",
    "    idx = anno['id']\n",
    "    lang = anno['language']\n",
    "    question_type = anno['question_type']\n",
    "    \n",
    "    result_dict[str(idx)] = selection_dict[lang][question_type][str(idx)]\n",
    "    \n",
    "with open('./submition/model_2_private_test.json', 'w', encoding='utf-8') as f:\n",
    "    json.dump(result_dict, f, indent=4, ensure_ascii=False)"
   ]
  },
  {
   "cell_type": "markdown",
   "id": "1112113b",
   "metadata": {},
   "source": [
    "### SUBMITION 3"
   ]
  },
  {
   "cell_type": "code",
   "execution_count": 9,
   "id": "37dc31bb",
   "metadata": {},
   "outputs": [
    {
     "data": {
      "application/vnd.jupyter.widget-view+json": {
       "model_id": "c652b536c5674acd8485831187b1b6b3",
       "version_major": 2,
       "version_minor": 0
      },
      "text/plain": [
       "  0%|          | 0/10000 [00:00<?, ?it/s]"
      ]
     },
     "metadata": {},
     "output_type": "display_data"
    }
   ],
   "source": [
    "selection_dict = {\n",
    "    'en': {\n",
    "        'HOW_MANY': combined_howmany,\n",
    "        'WHAT_COLOR': combined_whatcolor,\n",
    "        'WHERE': vit_ic_overfit,\n",
    "        'WHO': vit_ic_overfit,\n",
    "        'HOW': blip_vqav2,\n",
    "        'WHAT_IS': ofa_finetuned,\n",
    "        'WHAT_DO': vit_ic_overfit,\n",
    "        'WHICH': vit_ic_overfit,\n",
    "        'OTHERS': ofa_finetuned,\n",
    "        \n",
    "    },\n",
    "    'vi': {\n",
    "        'HOW_MANY': combined_howmany,\n",
    "        'WHAT_COLOR': vit_ic_overfit,\n",
    "        'WHERE': vit_ic_overfit,\n",
    "        'WHO': beit_best_0411,\n",
    "        'HOW': vit_ic_overfit,\n",
    "        'WHAT_IS': vit_ic_overfit,\n",
    "        'WHAT_DO': vit_ic_overfit,\n",
    "        'OTHERS': vit_ic_overfit,\n",
    "        \n",
    "    },\n",
    "    'ja': {\n",
    "        'HOW_MANY': combined_howmany,\n",
    "        'WHAT_COLOR': vit_ic_overfit,\n",
    "        'WHERE': vit_ic_overfit,\n",
    "        'WHO': clip_bestsub_0611,\n",
    "        'HOW': vit_ic_overfit,\n",
    "        'WHAT_IS': vit_ic_overfit,\n",
    "        'WHAT_DO': vit_ic_overfit,\n",
    "        'WHICH': vit_ic_overfit,\n",
    "        'OTHERS': vit_ic_overfit,\n",
    "        \n",
    "    }\n",
    "}\n",
    "\n",
    "result_dict = {}\n",
    "\n",
    "for i in tqdm(range(len(ptest_annotations))):\n",
    "    anno = ptest_annotations[i]\n",
    "    \n",
    "    idx = anno['id']\n",
    "    lang = anno['language']\n",
    "    question_type = anno['question_type']\n",
    "    \n",
    "    result_dict[str(idx)] = selection_dict[lang][question_type][str(idx)]\n",
    "    \n",
    "with open('./submition/model_3_private_test.json', 'w', encoding='utf-8') as f:\n",
    "    json.dump(result_dict, f, indent=4, ensure_ascii=False)"
   ]
  },
  {
   "cell_type": "code",
   "execution_count": null,
   "id": "297bc901",
   "metadata": {},
   "outputs": [],
   "source": []
  }
 ],
 "metadata": {
  "kernelspec": {
   "display_name": "phucpx",
   "language": "python",
   "name": "phucpx"
  },
  "language_info": {
   "codemirror_mode": {
    "name": "ipython",
    "version": 3
   },
   "file_extension": ".py",
   "mimetype": "text/x-python",
   "name": "python",
   "nbconvert_exporter": "python",
   "pygments_lexer": "ipython3",
   "version": "3.7.0"
  }
 },
 "nbformat": 4,
 "nbformat_minor": 5
}
