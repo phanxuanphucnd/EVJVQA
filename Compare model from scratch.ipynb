{
 "cells": [
  {
   "cell_type": "code",
   "execution_count": 2,
   "id": "36a29487",
   "metadata": {},
   "outputs": [
    {
     "name": "stderr",
     "output_type": "stream",
     "text": [
      "/home/phucpx/miniconda3/envs/phucpx/lib/python3.7/site-packages/ipykernel_launcher.py:2: TqdmExperimentalWarning: Using `tqdm.autonotebook.tqdm` in notebook mode. Use `tqdm.tqdm` instead to force console mode (e.g. in jupyter console)\n",
      "  \n"
     ]
    }
   ],
   "source": [
    "import json\n",
    "from tqdm.autonotebook import tqdm\n",
    "from evaluate_metrics import compute_f1, compute_avg_bleu"
   ]
  },
  {
   "cell_type": "code",
   "execution_count": 3,
   "id": "5688ee76",
   "metadata": {},
   "outputs": [],
   "source": [
    "with open('./data/test/evjvqa_public_test-lang-qtype-answer.json', 'r', encoding='utf-8') as f:\n",
    "    test_data = json.load(f)"
   ]
  },
  {
   "cell_type": "code",
   "execution_count": 4,
   "id": "afd67179",
   "metadata": {},
   "outputs": [
    {
     "data": {
      "application/vnd.jupyter.widget-view+json": {
       "model_id": "90f416dd977e4b61a44eaea5ecca89e8",
       "version_major": 2,
       "version_minor": 0
      },
      "text/plain": [
       "  0%|          | 0/5015 [00:00<?, ?it/s]"
      ]
     },
     "metadata": {},
     "output_type": "display_data"
    },
    {
     "data": {
      "text/plain": [
       "(5015, 5015, 5015)"
      ]
     },
     "execution_count": 4,
     "metadata": {},
     "output_type": "execute_result"
    }
   ],
   "source": [
    "test_annotations = test_data['annotations']\n",
    "\n",
    "qid2lang = {}\n",
    "qid2qtype = {}\n",
    "\n",
    "for anno in tqdm(test_annotations):\n",
    "    qid2lang[str(anno['id'])] = anno['language']\n",
    "    qid2qtype[str(anno['id'])] = anno['question_type']\n",
    "    \n",
    "len(test_annotations), len(qid2lang), len(qid2qtype)"
   ]
  },
  {
   "cell_type": "code",
   "execution_count": 6,
   "id": "d0a8a33e",
   "metadata": {},
   "outputs": [],
   "source": [
    "with open('./outputs/public-test/groundtruth_results.json', 'r', encoding='utf-8') as f:\n",
    "    gt_results = json.load(f)"
   ]
  },
  {
   "cell_type": "markdown",
   "id": "d13bfb63",
   "metadata": {},
   "source": [
    "## RUNNING"
   ]
  },
  {
   "cell_type": "code",
   "execution_count": 37,
   "id": "32ed2e19",
   "metadata": {},
   "outputs": [
    {
     "name": "stdout",
     "output_type": "stream",
     "text": [
      "------------------- EN -------------------\n",
      "Metrics of Language=en - Question Type=HOW_MANY: F1 = 0.15290013522865745 and Bleu = 0.15322208887005995\n",
      "Metrics of Language=en - Question Type=WHAT_COLOR: F1 = 0.18853855787818052 and Bleu = 0.12518137087061593\n",
      "Metrics of Language=en - Question Type=WHERE: F1 = 0.19176122196186499 and Bleu = 0.09459589580754617\n",
      "Metrics of Language=en - Question Type=WHO: F1 = 0.22394857693619305 and Bleu = 0.10707395670936089\n",
      "Metrics of Language=en - Question Type=HOW: F1 = 0.13667508001418033 and Bleu = 0.05589034318687309\n",
      "Metrics of Language=en - Question Type=WHAT_IS: F1 = 0.13649668409858795 and Bleu = 0.06596107283250961\n",
      "Metrics of Language=en - Question Type=WHAT_DO: F1 = 0.09775352735411079 and Bleu = 0.03948120374064543\n",
      "Metrics of Language=en - Question Type=WHICH: F1 = 0.32174146319366903 and Bleu = 0.24227055915263437\n",
      "Metrics of Language=en - Question Type=OTHERS: F1 = 0.1526480238108145 and Bleu = 0.09143225672564895\n",
      "------------------- END -------------------\n",
      "------------------- VI -------------------\n",
      "Metrics of Language=vi - Question Type=HOW_MANY: F1 = 0.3463594062007717 and Bleu = 0.17789877908932208\n",
      "Metrics of Language=vi - Question Type=WHAT_COLOR: F1 = 0.4092298579753349 and Bleu = 0.3252439272994947\n",
      "Metrics of Language=vi - Question Type=WHERE: F1 = 0.26397172054627854 and Bleu = 0.17209435523803548\n",
      "Metrics of Language=vi - Question Type=WHO: F1 = 0.14022846641041944 and Bleu = 0.08429757757582781\n",
      "Metrics of Language=vi - Question Type=HOW: F1 = 0.23465900845852825 and Bleu = 0.0915109552628532\n",
      "Metrics of Language=vi - Question Type=WHAT_IS: F1 = 0.18898691286926583 and Bleu = 0.1258842033050794\n",
      "Metrics of Language=vi - Question Type=WHAT_DO: F1 = 0.09649310384604504 and Bleu = 0.04586858209935157\n",
      "Metrics of Language=vi - Question Type=WHICH: F1 = nan and Bleu = 0.0\n",
      "Metrics of Language=vi - Question Type=OTHERS: F1 = 0.21917943552953448 and Bleu = 0.15348053479722745\n",
      "------------------- END -------------------\n",
      "------------------- JA -------------------\n",
      "Metrics of Language=ja - Question Type=HOW_MANY: F1 = 0.3572855002061618 and Bleu = 0.2796985282715859\n",
      "Metrics of Language=ja - Question Type=WHAT_COLOR: F1 = 0.37193457391002666 and Bleu = 0.2881008301274914\n",
      "Metrics of Language=ja - Question Type=WHERE: F1 = 0.17462740998628684 and Bleu = 0.13186950330160493\n",
      "Metrics of Language=ja - Question Type=WHO: F1 = 0.28083480583554754 and Bleu = 0.18912112315715202\n",
      "Metrics of Language=ja - Question Type=HOW: F1 = 0.39425818823643566 and Bleu = 0.2658593486903255\n",
      "Metrics of Language=ja - Question Type=WHAT_IS: F1 = 0.270444413842007 and Bleu = 0.1962762861888992\n",
      "Metrics of Language=ja - Question Type=WHAT_DO: F1 = 0.27656178570466855 and Bleu = 0.24977720745556803\n",
      "Metrics of Language=ja - Question Type=WHICH: F1 = 0.38405520216198513 and Bleu = 0.3971803197940179\n",
      "Metrics of Language=ja - Question Type=OTHERS: F1 = 0.21176488941456864 and Bleu = 0.167322180994743\n",
      "------------------- END -------------------\n"
     ]
    },
    {
     "name": "stderr",
     "output_type": "stream",
     "text": [
      "/home/phucpx/vinbdi/EVJVQA/evaluate_metrics.py:142: RuntimeWarning: Mean of empty slice.\n",
      "  return np.array(scores).mean()\n",
      "/home/phucpx/miniconda3/envs/phucpx/lib/python3.7/site-packages/numpy/core/_methods.py:189: RuntimeWarning: invalid value encountered in double_scalars\n",
      "  ret = ret.dtype.type(ret / rcount)\n"
     ]
    }
   ],
   "source": [
    "with open('./outputs/public-test/results-vit-mt5.json', 'r', encoding='utf-8') as f:\n",
    "    mt5vit_results = json.load(f)\n",
    "\n",
    "sep_qtype = True\n",
    "languages = ['en', 'vi', 'ja']\n",
    "# question_types = list(set(qid2qtype.values()))\n",
    "question_types = ['HOW_MANY', 'WHAT_COLOR', 'WHERE', 'WHO', 'HOW', 'WHAT_IS', 'WHAT_DO', 'WHICH', 'OTHERS']\n",
    "\n",
    "for lang in languages:\n",
    "    pred = {}\n",
    "    grth = {}\n",
    "    print(f'------------------- {lang.upper()} -------------------')\n",
    "    if sep_qtype:\n",
    "        for qtype in question_types:\n",
    "            pred = {}\n",
    "            grth = {}\n",
    "            for k, v in mt5vit_results.items():\n",
    "                if qid2lang[k] == lang and qid2qtype[k] == qtype:\n",
    "                    pred[k] = v\n",
    "                    grth[k] = gt_results[k]\n",
    "            \n",
    "            f1 = compute_f1(a_gold=grth, a_pred=pred)\n",
    "            bleu = compute_avg_bleu(a_gold=grth, a_pred=pred)\n",
    "            \n",
    "            print(f\"Metrics of Language={lang} - Question Type={qtype}: F1 = {f1} and Bleu = {bleu}\")\n",
    "    \n",
    "        print(f'------------------- END -------------------')\n",
    "    else:\n",
    "        for k, v in mt5vit_results.items():\n",
    "            if qid2lang[k] == lang:\n",
    "                pred[k] = v\n",
    "                grth[k] = gt_results[k]\n",
    "\n",
    "        f1 = compute_f1(a_gold=grth, a_pred=pred)\n",
    "        bleu = compute_avg_bleu(a_gold=grth, a_pred=pred)\n",
    "            \n",
    "        print(f\"Metrics of Language={lang}: F1 = {f1} and Bleu = {bleu}\")"
   ]
  },
  {
   "cell_type": "markdown",
   "id": "6da8524e",
   "metadata": {},
   "source": [
    "## Prepare training data"
   ]
  },
  {
   "cell_type": "code",
   "execution_count": 18,
   "id": "4af1a102",
   "metadata": {},
   "outputs": [],
   "source": [
    "with open('./data/train/evjvqa_train_lang_qtype-detailed.json', 'r', encoding='utf-8') as f:\n",
    "    train_data = json.load(f)\n",
    "    \n",
    "train_annotations = train_data['annotations']"
   ]
  },
  {
   "cell_type": "code",
   "execution_count": 19,
   "id": "08ebbe47",
   "metadata": {},
   "outputs": [
    {
     "data": {
      "application/vnd.jupyter.widget-view+json": {
       "model_id": "89ae4eedc44d48da962842164dc5816b",
       "version_major": 2,
       "version_minor": 0
      },
      "text/plain": [
       "  0%|          | 0/23785 [00:00<?, ?it/s]"
      ]
     },
     "metadata": {},
     "output_type": "display_data"
    },
    {
     "name": "stdout",
     "output_type": "stream",
     "text": [
      "15109\n"
     ]
    }
   ],
   "source": [
    "subtrain_annotations = []\n",
    "\n",
    "LIST_QTYPES = ['WHAT_IS', 'WHO', 'WHERE', 'OTHERS', 'WHAT_DO', 'WHICH', 'HOW']\n",
    "\n",
    "for anno in tqdm(train_annotations):\n",
    "    if anno['question_type'] in LIST_QTYPES:\n",
    "        subtrain_annotations.append(anno)\n",
    "        \n",
    "print(len(subtrain_annotations))\n",
    "\n",
    "subtrain_dict = {\n",
    "    'images': train_data['images'],\n",
    "    'annotations': subtrain_annotations\n",
    "}"
   ]
  },
  {
   "cell_type": "code",
   "execution_count": 20,
   "id": "303e04a9",
   "metadata": {},
   "outputs": [],
   "source": [
    "with open('./data/train/evjvqa-subtrain-obj.json', 'w', encoding='utf-8') as f:\n",
    "    json.dump(subtrain_dict, f, indent=4, ensure_ascii=False)"
   ]
  },
  {
   "cell_type": "code",
   "execution_count": 17,
   "id": "f7849161",
   "metadata": {},
   "outputs": [
    {
     "data": {
      "application/vnd.jupyter.widget-view+json": {
       "model_id": "182f06fe95c9432697cde3f0505b9e1d",
       "version_major": 2,
       "version_minor": 0
      },
      "text/plain": [
       "  0%|          | 0/5015 [00:00<?, ?it/s]"
      ]
     },
     "metadata": {},
     "output_type": "display_data"
    },
    {
     "name": "stdout",
     "output_type": "stream",
     "text": [
      "3345\n"
     ]
    }
   ],
   "source": [
    "with open('./data/test/evjvqa_public_test-lang-qtype-answer.json', 'r', encoding='utf-8') as f:\n",
    "    test_data = json.load(f)\n",
    "    \n",
    "test_annotations = test_data['annotations']\n",
    "\n",
    "subtest_annotations = []\n",
    "\n",
    "LIST_QTYPES = ['WHAT_IS', 'WHO', 'WHERE', 'OTHERS', 'WHAT_DO', 'WHICH', 'HOW']\n",
    "\n",
    "for anno in tqdm(test_annotations):\n",
    "    if anno['question_type'] in LIST_QTYPES:\n",
    "        subtest_annotations.append(anno)\n",
    "        \n",
    "print(len(subtest_annotations))\n",
    "\n",
    "subtest_dict = {\n",
    "    'images': test_data['images'],\n",
    "    'annotations': subtest_annotations\n",
    "}\n",
    "\n",
    "with open('./data/test/evjvqa-subtest-obj.json', 'w', encoding='utf-8') as f:\n",
    "    json.dump(subtest_dict, f, indent=4, ensure_ascii=False)"
   ]
  },
  {
   "cell_type": "code",
   "execution_count": 37,
   "id": "100ca40a",
   "metadata": {},
   "outputs": [],
   "source": [
    "with open('./data/train/evjvqa_train_lang_qtype-desc-detailed.json', 'r', encoding='utf-8') as f:\n",
    "    train_data = json.load(f)\n",
    "    \n",
    "train_images = train_data['images']\n",
    "train_annotations = train_data['annotations']"
   ]
  },
  {
   "cell_type": "code",
   "execution_count": 40,
   "id": "7292c124",
   "metadata": {},
   "outputs": [
    {
     "data": {
      "application/vnd.jupyter.widget-view+json": {
       "model_id": "9da31b936444466b881e6815233ae482",
       "version_major": 2,
       "version_minor": 0
      },
      "text/plain": [
       "  0%|          | 0/3763 [00:00<?, ?it/s]"
      ]
     },
     "metadata": {},
     "output_type": "display_data"
    },
    {
     "data": {
      "application/vnd.jupyter.widget-view+json": {
       "model_id": "f3e08d19c08a4686bac3a23b86c8db3e",
       "version_major": 2,
       "version_minor": 0
      },
      "text/plain": [
       "  0%|          | 0/23785 [00:00<?, ?it/s]"
      ]
     },
     "metadata": {},
     "output_type": "display_data"
    }
   ],
   "source": [
    "id2desc = {}\n",
    "\n",
    "for img_desc in tqdm(train_images):\n",
    "    id2desc[img_desc['id']] = img_desc['desc'][0]\n",
    "\n",
    "for anno in tqdm(train_annotations):\n",
    "    anno['desc'] = id2desc[anno['image_id']]"
   ]
  },
  {
   "cell_type": "code",
   "execution_count": 42,
   "id": "af472d96",
   "metadata": {},
   "outputs": [],
   "source": [
    "with open('./data/train/evjvqa_train_lang_qtype-desc-detailed.json', 'w', encoding='utf-8') as f:\n",
    "    json.dump(train_data, f, indent=4, ensure_ascii=False)"
   ]
  },
  {
   "cell_type": "code",
   "execution_count": 43,
   "id": "b122e437",
   "metadata": {},
   "outputs": [
    {
     "data": {
      "application/vnd.jupyter.widget-view+json": {
       "model_id": "568235f695df42629a999fd6711f7322",
       "version_major": 2,
       "version_minor": 0
      },
      "text/plain": [
       "  0%|          | 0/558 [00:00<?, ?it/s]"
      ]
     },
     "metadata": {},
     "output_type": "display_data"
    },
    {
     "data": {
      "application/vnd.jupyter.widget-view+json": {
       "model_id": "016553ef4a824b789b21e0116c363e75",
       "version_major": 2,
       "version_minor": 0
      },
      "text/plain": [
       "  0%|          | 0/5015 [00:00<?, ?it/s]"
      ]
     },
     "metadata": {},
     "output_type": "display_data"
    }
   ],
   "source": [
    "with open('./data/test/evjvqa_public_test-lang-qtype-desc-answer.json', 'r', encoding='utf-8') as f:\n",
    "    test_data = json.load(f)\n",
    "    \n",
    "test_images = test_data['images']\n",
    "test_annotations = test_data['annotations']\n",
    "\n",
    "id2desc = {}\n",
    "\n",
    "for img_desc in tqdm(test_images):\n",
    "    id2desc[img_desc['id']] = img_desc['desc'][0]\n",
    "\n",
    "for anno in tqdm(test_annotations):\n",
    "    anno['desc'] = id2desc[anno['image_id']]"
   ]
  },
  {
   "cell_type": "code",
   "execution_count": 45,
   "id": "7231af37",
   "metadata": {},
   "outputs": [],
   "source": [
    "with open('./data/test/evjvqa_public_test-lang-qtype-desc-answer.json', 'w', encoding='utf-8') as f:\n",
    "    json.dump(test_data, f, indent=4, ensure_ascii=False)"
   ]
  },
  {
   "cell_type": "code",
   "execution_count": 46,
   "id": "80c3c223",
   "metadata": {},
   "outputs": [
    {
     "data": {
      "application/vnd.jupyter.widget-view+json": {
       "model_id": "d2fcf1b4b5e14bdd9c0605a380454c03",
       "version_major": 2,
       "version_minor": 0
      },
      "text/plain": [
       "  0%|          | 0/588 [00:00<?, ?it/s]"
      ]
     },
     "metadata": {},
     "output_type": "display_data"
    },
    {
     "data": {
      "application/vnd.jupyter.widget-view+json": {
       "model_id": "b7ef7b6e2f354852bb6a024c9ed56ef8",
       "version_major": 2,
       "version_minor": 0
      },
      "text/plain": [
       "  0%|          | 0/10000 [00:00<?, ?it/s]"
      ]
     },
     "metadata": {},
     "output_type": "display_data"
    }
   ],
   "source": [
    "with open('./data/private-test/evjvqa_private_test-desc.json', 'r', encoding='utf-8') as f:\n",
    "    ptest_data = json.load(f)\n",
    "    \n",
    "ptest_images = ptest_data['images']\n",
    "ptest_annotations = ptest_data['annotations']\n",
    "\n",
    "id2desc = {}\n",
    "\n",
    "for img_desc in tqdm(ptest_images):\n",
    "    id2desc[img_desc['id']] = img_desc['desc'][0]\n",
    "\n",
    "for anno in tqdm(ptest_annotations):\n",
    "    anno['desc'] = id2desc[anno['image_id']]"
   ]
  },
  {
   "cell_type": "code",
   "execution_count": 47,
   "id": "79dc81a9",
   "metadata": {},
   "outputs": [],
   "source": [
    "with open('./data/private-test/evjvqa_private_test-desc.json', 'w', encoding='utf-8') as f:\n",
    "    json.dump(ptest_data, f, indent=4, ensure_ascii=False)"
   ]
  },
  {
   "cell_type": "code",
   "execution_count": null,
   "id": "446edd3d",
   "metadata": {},
   "outputs": [],
   "source": []
  }
 ],
 "metadata": {
  "kernelspec": {
   "display_name": "phucpx",
   "language": "python",
   "name": "phucpx"
  },
  "language_info": {
   "codemirror_mode": {
    "name": "ipython",
    "version": 3
   },
   "file_extension": ".py",
   "mimetype": "text/x-python",
   "name": "python",
   "nbconvert_exporter": "python",
   "pygments_lexer": "ipython3",
   "version": "3.7.1"
  }
 },
 "nbformat": 4,
 "nbformat_minor": 5
}
