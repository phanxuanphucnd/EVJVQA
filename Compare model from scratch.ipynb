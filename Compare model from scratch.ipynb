{
 "cells": [
  {
   "cell_type": "code",
   "execution_count": 1,
   "id": "36a29487",
   "metadata": {},
   "outputs": [
    {
     "name": "stderr",
     "output_type": "stream",
     "text": [
      "/home/phucpx/miniconda3/envs/phucpx/lib/python3.7/site-packages/ipykernel_launcher.py:2: TqdmExperimentalWarning: Using `tqdm.autonotebook.tqdm` in notebook mode. Use `tqdm.tqdm` instead to force console mode (e.g. in jupyter console)\n",
      "  \n"
     ]
    }
   ],
   "source": [
    "import json\n",
    "from tqdm.autonotebook import tqdm\n",
    "from evaluate_metrics import compute_f1, compute_avg_bleu"
   ]
  },
  {
   "cell_type": "code",
   "execution_count": 2,
   "id": "5688ee76",
   "metadata": {},
   "outputs": [],
   "source": [
    "with open('./data/test/evjvqa_public_test-lang-qtype-answer.json', 'r', encoding='utf-8') as f:\n",
    "    test_data = json.load(f)"
   ]
  },
  {
   "cell_type": "code",
   "execution_count": 3,
   "id": "afd67179",
   "metadata": {},
   "outputs": [
    {
     "data": {
      "application/vnd.jupyter.widget-view+json": {
       "model_id": "89db672ea6bf4850900257af05112930",
       "version_major": 2,
       "version_minor": 0
      },
      "text/plain": [
       "  0%|          | 0/5015 [00:00<?, ?it/s]"
      ]
     },
     "metadata": {},
     "output_type": "display_data"
    },
    {
     "data": {
      "text/plain": [
       "(5015, 5015, 5015)"
      ]
     },
     "execution_count": 3,
     "metadata": {},
     "output_type": "execute_result"
    }
   ],
   "source": [
    "test_annotations = test_data['annotations']\n",
    "\n",
    "qid2lang = {}\n",
    "qid2qtype = {}\n",
    "\n",
    "for anno in tqdm(test_annotations):\n",
    "    qid2lang[str(anno['id'])] = anno['language']\n",
    "    qid2qtype[str(anno['id'])] = anno['question_type']\n",
    "    \n",
    "len(test_annotations), len(qid2lang), len(qid2qtype)"
   ]
  },
  {
   "cell_type": "code",
   "execution_count": 4,
   "id": "d0a8a33e",
   "metadata": {},
   "outputs": [],
   "source": [
    "with open('./outputs/groundtruth_results.json', 'r', encoding='utf-8') as f:\n",
    "    gt_results = json.load(f)"
   ]
  },
  {
   "cell_type": "markdown",
   "id": "d13bfb63",
   "metadata": {},
   "source": [
    "## MT5 + VIT"
   ]
  },
  {
   "cell_type": "code",
   "execution_count": 56,
   "id": "32ed2e19",
   "metadata": {},
   "outputs": [
    {
     "name": "stdout",
     "output_type": "stream",
     "text": [
      "------------------- EN -------------------\n",
      "Metrics of Language=en - Question Type=HOW_MANY: F1 = 0.032231373377671325 and Bleu = 0.011451000912197428\n",
      "Metrics of Language=en - Question Type=WHAT_COLOR: F1 = nan and Bleu = 0.0\n",
      "Metrics of Language=en - Question Type=WHERE: F1 = 0.11371247460991052 and Bleu = 0.0401815660649508\n",
      "Metrics of Language=en - Question Type=WHO: F1 = 0.028597217597217603 and Bleu = 0.0006744327649161117\n",
      "Metrics of Language=en - Question Type=HOW: F1 = nan and Bleu = 0.0\n",
      "Metrics of Language=en - Question Type=WHAT_IS: F1 = 0.03214459038328879 and Bleu = 0.00731538646716225\n",
      "Metrics of Language=en - Question Type=WHAT_DO: F1 = nan and Bleu = 0.0\n",
      "Metrics of Language=en - Question Type=WHICH: F1 = nan and Bleu = 0.0\n",
      "Metrics of Language=en - Question Type=OTHERS: F1 = nan and Bleu = 0.0\n",
      "------------------- END -------------------\n",
      "------------------- VI -------------------\n",
      "Metrics of Language=vi - Question Type=HOW_MANY: F1 = 0.0708500902716887 and Bleu = 0.008199422612065285\n",
      "Metrics of Language=vi - Question Type=WHAT_COLOR: F1 = nan and Bleu = 0.0\n",
      "Metrics of Language=vi - Question Type=WHERE: F1 = 0.1500828606247404 and Bleu = 0.08757269230880005\n",
      "Metrics of Language=vi - Question Type=WHO: F1 = 0.1337898212898213 and Bleu = 0.04767416554210123\n",
      "Metrics of Language=vi - Question Type=HOW: F1 = nan and Bleu = 0.0\n",
      "Metrics of Language=vi - Question Type=WHAT_IS: F1 = 0.046281366716454435 and Bleu = 0.023061517673334645\n",
      "Metrics of Language=vi - Question Type=WHAT_DO: F1 = nan and Bleu = 0.0\n",
      "Metrics of Language=vi - Question Type=WHICH: F1 = nan and Bleu = 0.0\n",
      "Metrics of Language=vi - Question Type=OTHERS: F1 = nan and Bleu = 0.0\n",
      "------------------- END -------------------\n",
      "------------------- JA -------------------\n",
      "Metrics of Language=ja - Question Type=HOW_MANY: F1 = 0.11165781714620981 and Bleu = 0.11792329208276378\n",
      "Metrics of Language=ja - Question Type=WHAT_COLOR: F1 = nan and Bleu = 0.0\n",
      "Metrics of Language=ja - Question Type=WHERE: F1 = 0.09075002187226815 and Bleu = 0.04282757275144311\n",
      "Metrics of Language=ja - Question Type=WHO: F1 = 0.06335062111859535 and Bleu = 0.004343263918806224\n",
      "Metrics of Language=ja - Question Type=HOW: F1 = nan and Bleu = 0.0\n",
      "Metrics of Language=ja - Question Type=WHAT_IS: F1 = 0.11169642918235667 and Bleu = 0.062499309491127024\n",
      "Metrics of Language=ja - Question Type=WHAT_DO: F1 = nan and Bleu = 0.0\n",
      "Metrics of Language=ja - Question Type=WHICH: F1 = nan and Bleu = 0.0\n",
      "Metrics of Language=ja - Question Type=OTHERS: F1 = nan and Bleu = 0.0\n",
      "------------------- END -------------------\n"
     ]
    },
    {
     "name": "stderr",
     "output_type": "stream",
     "text": [
      "/home/phucpx/vinbdi/EVJVQA/evaluate_metrics.py:142: RuntimeWarning: Mean of empty slice.\n",
      "  return np.array(scores).mean()\n",
      "/home/phucpx/miniconda3/envs/phucpx/lib/python3.7/site-packages/numpy/core/_methods.py:189: RuntimeWarning: invalid value encountered in double_scalars\n",
      "  ret = ret.dtype.type(ret / rcount)\n"
     ]
    }
   ],
   "source": [
    "with open('./outputs/results-mt5-vit-subset.json', 'r', encoding='utf-8') as f:\n",
    "    mt5vit_results = json.load(f)\n",
    "\n",
    "sep_qtype = True\n",
    "languages = ['en', 'vi', 'ja']\n",
    "# question_types = list(set(qid2qtype.values()))\n",
    "question_types = ['HOW_MANY', 'WHAT_COLOR', 'WHERE', 'WHO', 'HOW', 'WHAT_IS', 'WHAT_DO', 'WHICH', 'OTHERS']\n",
    "\n",
    "for lang in languages:\n",
    "    pred = {}\n",
    "    grth = {}\n",
    "    print(f'------------------- {lang.upper()} -------------------')\n",
    "    if sep_qtype:\n",
    "        for qtype in question_types:\n",
    "            pred = {}\n",
    "            grth = {}\n",
    "            for k, v in mt5vit_results.items():\n",
    "                if qid2lang[k] == lang and qid2qtype[k] == qtype:\n",
    "                    pred[k] = v\n",
    "                    grth[k] = gt_results[k]\n",
    "            \n",
    "            f1 = compute_f1(a_gold=grth, a_pred=pred)\n",
    "            bleu = compute_avg_bleu(a_gold=grth, a_pred=pred)\n",
    "            \n",
    "            print(f\"Metrics of Language={lang} - Question Type={qtype}: F1 = {f1} and Bleu = {bleu}\")\n",
    "    \n",
    "        print(f'------------------- END -------------------')\n",
    "    else:\n",
    "        for k, v in mt5vit_results.items():\n",
    "            if qid2lang[k] == lang:\n",
    "                pred[k] = v\n",
    "                grth[k] = gt_results[k]\n",
    "\n",
    "        f1 = compute_f1(a_gold=grth, a_pred=pred)\n",
    "        bleu = compute_avg_bleu(a_gold=grth, a_pred=pred)\n",
    "            \n",
    "        print(f\"Metrics of Language={lang}: F1 = {f1} and Bleu = {bleu}\")"
   ]
  },
  {
   "cell_type": "markdown",
   "id": "72f66508",
   "metadata": {},
   "source": [
    "## MT5 + CLIP"
   ]
  },
  {
   "cell_type": "code",
   "execution_count": 60,
   "id": "76fff2d0",
   "metadata": {},
   "outputs": [
    {
     "name": "stdout",
     "output_type": "stream",
     "text": [
      "------------------- EN -------------------\n",
      "Metrics of Language=en - Question Type=HOW_MANY: F1 = 0.07791512600347031 and Bleu = 0.09827251227133138\n",
      "Metrics of Language=en - Question Type=WHAT_COLOR: F1 = 0.16189931661629775 and Bleu = 0.10014307780287927\n",
      "Metrics of Language=en - Question Type=WHERE: F1 = 0.20140082963969605 and Bleu = 0.08311446336733207\n",
      "Metrics of Language=en - Question Type=WHO: F1 = 0.2397872756210352 and Bleu = 0.1521828630350615\n",
      "Metrics of Language=en - Question Type=HOW: F1 = 0.1415194282841342 and Bleu = 0.07429034516694062\n",
      "Metrics of Language=en - Question Type=WHAT_IS: F1 = 0.13616911442637583 and Bleu = 0.06891707871140323\n",
      "Metrics of Language=en - Question Type=WHAT_DO: F1 = 0.07441653271156948 and Bleu = 0.019996796833378287\n",
      "Metrics of Language=en - Question Type=WHICH: F1 = 0.25890121418614065 and Bleu = 0.11143095936695041\n",
      "Metrics of Language=en - Question Type=OTHERS: F1 = 0.15623510856068995 and Bleu = 0.06046147946466284\n",
      "------------------- END -------------------\n",
      "------------------- VI -------------------\n",
      "Metrics of Language=vi - Question Type=HOW_MANY: F1 = 0.19484603538781517 and Bleu = 0.1857026737921942\n",
      "Metrics of Language=vi - Question Type=WHAT_COLOR: F1 = 0.27070819082418085 and Bleu = 0.2179428742399385\n",
      "Metrics of Language=vi - Question Type=WHERE: F1 = 0.28777854476071146 and Bleu = 0.18306103014202488\n",
      "Metrics of Language=vi - Question Type=WHO: F1 = 0.09130467230999491 and Bleu = 0.06056290154862373\n",
      "Metrics of Language=vi - Question Type=HOW: F1 = 0.1565423572026213 and Bleu = 0.10180675183637293\n",
      "Metrics of Language=vi - Question Type=WHAT_IS: F1 = 0.20011194687665276 and Bleu = 0.13986771832580158\n",
      "Metrics of Language=vi - Question Type=WHAT_DO: F1 = 0.07837006780247235 and Bleu = 0.055604590281714134\n",
      "Metrics of Language=vi - Question Type=WHICH: F1 = nan and Bleu = 0.0\n",
      "Metrics of Language=vi - Question Type=OTHERS: F1 = 0.19974539878882175 and Bleu = 0.15757992532254111\n",
      "------------------- END -------------------\n",
      "------------------- JA -------------------\n",
      "Metrics of Language=ja - Question Type=HOW_MANY: F1 = 0.2521892774347464 and Bleu = 0.20647041778479353\n",
      "Metrics of Language=ja - Question Type=WHAT_COLOR: F1 = 0.30397292530369185 and Bleu = 0.23696532662297418\n",
      "Metrics of Language=ja - Question Type=WHERE: F1 = 0.18061121815237602 and Bleu = 0.12137166007270361\n",
      "Metrics of Language=ja - Question Type=WHO: F1 = 0.3293784868002805 and Bleu = 0.19162708503650389\n",
      "Metrics of Language=ja - Question Type=HOW: F1 = 0.3434939959770962 and Bleu = 0.2740077776467293\n",
      "Metrics of Language=ja - Question Type=WHAT_IS: F1 = 0.2943438282027104 and Bleu = 0.19932221452726961\n",
      "Metrics of Language=ja - Question Type=WHAT_DO: F1 = 0.3023292311430441 and Bleu = 0.2066576269209458\n",
      "Metrics of Language=ja - Question Type=WHICH: F1 = 0.33233672488208116 and Bleu = 0.29225629932059477\n",
      "Metrics of Language=ja - Question Type=OTHERS: F1 = 0.23692052195419347 and Bleu = 0.16322297900247465\n",
      "------------------- END -------------------\n"
     ]
    },
    {
     "name": "stderr",
     "output_type": "stream",
     "text": [
      "/home/phucpx/vinbdi/EVJVQA/evaluate_metrics.py:142: RuntimeWarning: Mean of empty slice.\n",
      "  return np.array(scores).mean()\n",
      "/home/phucpx/miniconda3/envs/phucpx/lib/python3.7/site-packages/numpy/core/_methods.py:189: RuntimeWarning: invalid value encountered in double_scalars\n",
      "  ret = ret.dtype.type(ret / rcount)\n"
     ]
    }
   ],
   "source": [
    "with open('./outputs/results-clip-sub-best-f1.json', 'r', encoding='utf-8') as f:\n",
    "    mt5vit_results = json.load(f)\n",
    "\n",
    "sep_qtype = True\n",
    "languages = ['en', 'vi', 'ja']\n",
    "# question_types = list(set(qid2qtype.values()))\n",
    "question_types = ['HOW_MANY', 'WHAT_COLOR', 'WHERE', 'WHO', 'HOW', 'WHAT_IS', 'WHAT_DO', 'WHICH', 'OTHERS']\n",
    "\n",
    "for lang in languages:\n",
    "    pred = {}\n",
    "    grth = {}\n",
    "    print(f'------------------- {lang.upper()} -------------------')\n",
    "    if sep_qtype:\n",
    "        for qtype in question_types:\n",
    "            pred = {}\n",
    "            grth = {}\n",
    "            for k, v in mt5vit_results.items():\n",
    "                if qid2lang[k] == lang and qid2qtype[k] == qtype:\n",
    "                    pred[k] = v\n",
    "                    grth[k] = gt_results[k]\n",
    "            \n",
    "            f1 = compute_f1(a_gold=grth, a_pred=pred)\n",
    "            bleu = compute_avg_bleu(a_gold=grth, a_pred=pred)\n",
    "            \n",
    "            print(f\"Metrics of Language={lang} - Question Type={qtype}: F1 = {f1} and Bleu = {bleu}\")\n",
    "    \n",
    "        print(f'------------------- END -------------------')\n",
    "    else:\n",
    "        for k, v in mt5vit_results.items():\n",
    "            if qid2lang[k] == lang:\n",
    "                pred[k] = v\n",
    "                grth[k] = gt_results[k]\n",
    "\n",
    "        f1 = compute_f1(a_gold=grth, a_pred=pred)\n",
    "        bleu = compute_avg_bleu(a_gold=grth, a_pred=pred)\n",
    "            \n",
    "        print(f\"Metrics of Language={lang}: F1 = {f1} and Bleu = {bleu}\")"
   ]
  },
  {
   "cell_type": "markdown",
   "id": "2bf9d8e4",
   "metadata": {},
   "source": [
    "## MT5 + DEiT"
   ]
  },
  {
   "cell_type": "code",
   "execution_count": 57,
   "id": "11bae593",
   "metadata": {},
   "outputs": [
    {
     "name": "stdout",
     "output_type": "stream",
     "text": [
      "------------------- EN -------------------\n",
      "Metrics of Language=en - Question Type=HOW_MANY: F1 = 0.16974255060288287 and Bleu = 0.15780767932026968\n",
      "Metrics of Language=en - Question Type=WHAT_COLOR: F1 = 0.21342522781202025 and Bleu = 0.12181462251407299\n",
      "Metrics of Language=en - Question Type=WHERE: F1 = 0.19755661633489688 and Bleu = 0.10247612950907531\n",
      "Metrics of Language=en - Question Type=WHO: F1 = 0.22923719188734665 and Bleu = 0.13518813867749388\n",
      "Metrics of Language=en - Question Type=HOW: F1 = 0.16890013581190053 and Bleu = 0.07471234357501781\n",
      "Metrics of Language=en - Question Type=WHAT_IS: F1 = 0.12794810076967753 and Bleu = 0.042722989779056995\n",
      "Metrics of Language=en - Question Type=WHAT_DO: F1 = 0.11504865413563063 and Bleu = 0.04036608334408113\n",
      "Metrics of Language=en - Question Type=WHICH: F1 = 0.34174115814740813 and Bleu = 0.22415546133667788\n",
      "Metrics of Language=en - Question Type=OTHERS: F1 = 0.15133773203540643 and Bleu = 0.0798258206381956\n",
      "------------------- END -------------------\n",
      "------------------- VI -------------------\n",
      "Metrics of Language=vi - Question Type=HOW_MANY: F1 = 0.40750271113056513 and Bleu = 0.24686217345720995\n",
      "Metrics of Language=vi - Question Type=WHAT_COLOR: F1 = 0.3981160640112806 and Bleu = 0.3195255433852041\n",
      "Metrics of Language=vi - Question Type=WHERE: F1 = 0.218842172248568 and Bleu = 0.14334673236795958\n",
      "Metrics of Language=vi - Question Type=WHO: F1 = 0.22735320688752061 and Bleu = 0.1172927509780417\n",
      "Metrics of Language=vi - Question Type=HOW: F1 = 0.22869354535020803 and Bleu = 0.12034900545380538\n",
      "Metrics of Language=vi - Question Type=WHAT_IS: F1 = 0.23934478031503204 and Bleu = 0.15661395968234804\n",
      "Metrics of Language=vi - Question Type=WHAT_DO: F1 = 0.06116195966247566 and Bleu = 0.02389953490050024\n",
      "Metrics of Language=vi - Question Type=WHICH: F1 = nan and Bleu = 0.0\n",
      "Metrics of Language=vi - Question Type=OTHERS: F1 = 0.21779344343357723 and Bleu = 0.15877133100976926\n",
      "------------------- END -------------------\n",
      "------------------- JA -------------------\n",
      "Metrics of Language=ja - Question Type=HOW_MANY: F1 = 0.35179460729493645 and Bleu = 0.27642463001320894\n",
      "Metrics of Language=ja - Question Type=WHAT_COLOR: F1 = 0.36405149913339724 and Bleu = 0.3013652868046126\n",
      "Metrics of Language=ja - Question Type=WHERE: F1 = 0.18854789034998698 and Bleu = 0.1255254511297304\n",
      "Metrics of Language=ja - Question Type=WHO: F1 = 0.2608213858422909 and Bleu = 0.18565731705869598\n",
      "Metrics of Language=ja - Question Type=HOW: F1 = 0.4153536901528513 and Bleu = 0.3206586237174433\n",
      "Metrics of Language=ja - Question Type=WHAT_IS: F1 = 0.26262284799448765 and Bleu = 0.20236824515773735\n",
      "Metrics of Language=ja - Question Type=WHAT_DO: F1 = 0.30753634687922954 and Bleu = 0.24825732391204186\n",
      "Metrics of Language=ja - Question Type=WHICH: F1 = 0.34208946438085974 and Bleu = 0.32531385069700075\n",
      "Metrics of Language=ja - Question Type=OTHERS: F1 = 0.21231927343742577 and Bleu = 0.17354632186520547\n",
      "------------------- END -------------------\n"
     ]
    },
    {
     "name": "stderr",
     "output_type": "stream",
     "text": [
      "/home/phucpx/vinbdi/EVJVQA/evaluate_metrics.py:142: RuntimeWarning: Mean of empty slice.\n",
      "  return np.array(scores).mean()\n",
      "/home/phucpx/miniconda3/envs/phucpx/lib/python3.7/site-packages/numpy/core/_methods.py:189: RuntimeWarning: invalid value encountered in double_scalars\n",
      "  ret = ret.dtype.type(ret / rcount)\n"
     ]
    }
   ],
   "source": [
    "with open('./outputs/results-deit-best-f1.json', 'r', encoding='utf-8') as f:\n",
    "    detr_results = json.load(f)\n",
    "\n",
    "sep_qtype = True\n",
    "languages = ['en', 'vi', 'ja']\n",
    "# question_types = list(set(qid2qtype.values()))\n",
    "question_types = ['HOW_MANY', 'WHAT_COLOR', 'WHERE', 'WHO', 'HOW', 'WHAT_IS', 'WHAT_DO', 'WHICH', 'OTHERS']\n",
    "\n",
    "for lang in languages:\n",
    "    pred = {}\n",
    "    grth = {}\n",
    "    print(f'------------------- {lang.upper()} -------------------')\n",
    "    if sep_qtype:\n",
    "        for qtype in question_types:\n",
    "            pred = {}\n",
    "            grth = {}\n",
    "            for k, v in detr_results.items():\n",
    "                if qid2lang[k] == lang and qid2qtype[k] == qtype:\n",
    "                    pred[k] = v\n",
    "                    grth[k] = gt_results[k]\n",
    "            \n",
    "            f1 = compute_f1(a_gold=grth, a_pred=pred)\n",
    "            bleu = compute_avg_bleu(a_gold=grth, a_pred=pred)\n",
    "            \n",
    "            print(f\"Metrics of Language={lang} - Question Type={qtype}: F1 = {f1} and Bleu = {bleu}\")\n",
    "    \n",
    "        print(f'------------------- END -------------------')\n",
    "    else:\n",
    "        for k, v in detr_results.items():\n",
    "            if qid2lang[k] == lang:\n",
    "                pred[k] = v\n",
    "                grth[k] = gt_results[k]\n",
    "\n",
    "        f1 = compute_f1(a_gold=grth, a_pred=pred)\n",
    "        bleu = compute_avg_bleu(a_gold=grth, a_pred=pred)\n",
    "            \n",
    "        print(f\"Metrics of Language={lang}: F1 = {f1} and Bleu = {bleu}\")"
   ]
  },
  {
   "cell_type": "markdown",
   "id": "eda841de",
   "metadata": {},
   "source": [
    "## MT5 + BEiT"
   ]
  },
  {
   "cell_type": "code",
   "execution_count": 46,
   "id": "86f4a050",
   "metadata": {},
   "outputs": [
    {
     "name": "stdout",
     "output_type": "stream",
     "text": [
      "------------------- EN -------------------\n",
      "Metrics of Language=en - Question Type=HOW_MANY: F1 = 0.25288627766367267 and Bleu = 0.21025334273899993\n",
      "Metrics of Language=en - Question Type=WHAT_COLOR: F1 = 0.18091052029731278 and Bleu = 0.06533924204671622\n",
      "Metrics of Language=en - Question Type=WHERE: F1 = 0.23340255419917247 and Bleu = 0.1348724604874699\n",
      "Metrics of Language=en - Question Type=WHO: F1 = 0.2278052762361552 and Bleu = 0.13459828355103493\n",
      "Metrics of Language=en - Question Type=HOW: F1 = 0.2323119018620749 and Bleu = 0.13354356661116362\n",
      "Metrics of Language=en - Question Type=WHAT_IS: F1 = 0.12579462952906936 and Bleu = 0.07770942786997444\n",
      "Metrics of Language=en - Question Type=WHAT_DO: F1 = 0.08551474567099568 and Bleu = 0.020739939290366927\n",
      "Metrics of Language=en - Question Type=WHICH: F1 = 0.32645045926295924 and Bleu = 0.25582474644262293\n",
      "Metrics of Language=en - Question Type=OTHERS: F1 = 0.1470020160717835 and Bleu = 0.050269886304040536\n",
      "------------------- END -------------------\n",
      "------------------- VI -------------------\n",
      "Metrics of Language=vi - Question Type=HOW_MANY: F1 = 0.28898542057202153 and Bleu = 0.28884266725811847\n",
      "Metrics of Language=vi - Question Type=WHAT_COLOR: F1 = 0.4299951517334764 and Bleu = 0.15158586706468155\n",
      "Metrics of Language=vi - Question Type=WHERE: F1 = 0.1815951196785596 and Bleu = 0.1049740522192363\n",
      "Metrics of Language=vi - Question Type=WHO: F1 = 0.22716661547431727 and Bleu = 0.17647586397425868\n",
      "Metrics of Language=vi - Question Type=HOW: F1 = 0.20109046156275573 and Bleu = 0.08413990209226846\n",
      "Metrics of Language=vi - Question Type=WHAT_IS: F1 = 0.12131295284236461 and Bleu = 0.06970901380460935\n",
      "Metrics of Language=vi - Question Type=WHAT_DO: F1 = 0.06914416157553413 and Bleu = 0.03557302037551348\n",
      "Metrics of Language=vi - Question Type=WHICH: F1 = nan and Bleu = 0.0\n",
      "Metrics of Language=vi - Question Type=OTHERS: F1 = 0.19007150714629298 and Bleu = 0.13813822462751874\n",
      "------------------- END -------------------\n",
      "------------------- JA -------------------\n",
      "Metrics of Language=ja - Question Type=HOW_MANY: F1 = 0.3443130008777124 and Bleu = 0.259965396244791\n",
      "Metrics of Language=ja - Question Type=WHAT_COLOR: F1 = 0.3800193015646815 and Bleu = 0.28099487847208615\n",
      "Metrics of Language=ja - Question Type=WHERE: F1 = 0.1632183369719963 and Bleu = 0.12748691526675848\n",
      "Metrics of Language=ja - Question Type=WHO: F1 = 0.2850554874110339 and Bleu = 0.18750072088445321\n",
      "Metrics of Language=ja - Question Type=HOW: F1 = 0.3965103639087588 and Bleu = 0.3349456601167532\n",
      "Metrics of Language=ja - Question Type=WHAT_IS: F1 = 0.29880869839830265 and Bleu = 0.20599046952575692\n",
      "Metrics of Language=ja - Question Type=WHAT_DO: F1 = 0.3439570848959467 and Bleu = 0.2620511356558848\n",
      "Metrics of Language=ja - Question Type=WHICH: F1 = 0.3668242111099183 and Bleu = 0.3627144855287052\n",
      "Metrics of Language=ja - Question Type=OTHERS: F1 = 0.21210708960366648 and Bleu = 0.16491210778539767\n",
      "------------------- END -------------------\n"
     ]
    },
    {
     "name": "stderr",
     "output_type": "stream",
     "text": [
      "/home/phucpx/vinbdi/EVJVQA/evaluate_metrics.py:142: RuntimeWarning: Mean of empty slice.\n",
      "  return np.array(scores).mean()\n",
      "/home/phucpx/miniconda3/envs/phucpx/lib/python3.7/site-packages/numpy/core/_methods.py:189: RuntimeWarning: invalid value encountered in double_scalars\n",
      "  ret = ret.dtype.type(ret / rcount)\n"
     ]
    }
   ],
   "source": [
    "with open('./outputs/results-beit-f1-2.json', 'r', encoding='utf-8') as f:\n",
    "    mt5beit_results = json.load(f)\n",
    "\n",
    "sep_qtype = True\n",
    "languages = ['en', 'vi', 'ja']\n",
    "# question_types = list(set(qid2qtype.values()))\n",
    "question_types = ['HOW_MANY', 'WHAT_COLOR', 'WHERE', 'WHO', 'HOW', 'WHAT_IS', 'WHAT_DO', 'WHICH', 'OTHERS']\n",
    "\n",
    "for lang in languages:\n",
    "    pred = {}\n",
    "    grth = {}\n",
    "    print(f'------------------- {lang.upper()} -------------------')\n",
    "    if sep_qtype:\n",
    "        for qtype in question_types:\n",
    "            pred = {}\n",
    "            grth = {}\n",
    "            for k, v in mt5beit_results.items():\n",
    "                if qid2lang[k] == lang and qid2qtype[k] == qtype:\n",
    "                    pred[k] = v\n",
    "                    grth[k] = gt_results[k]\n",
    "            \n",
    "            f1 = compute_f1(a_gold=grth, a_pred=pred)\n",
    "            bleu = compute_avg_bleu(a_gold=grth, a_pred=pred)\n",
    "            \n",
    "            print(f\"Metrics of Language={lang} - Question Type={qtype}: F1 = {f1} and Bleu = {bleu}\")\n",
    "    \n",
    "        print(f'------------------- END -------------------')\n",
    "    else:\n",
    "        for k, v in mt5beit_results.items():\n",
    "            if qid2lang[k] == lang:\n",
    "                pred[k] = v\n",
    "                grth[k] = gt_results[k]\n",
    "\n",
    "        f1 = compute_f1(a_gold=grth, a_pred=pred)\n",
    "        bleu = compute_avg_bleu(a_gold=grth, a_pred=pred)\n",
    "            \n",
    "        print(f\"Metrics of Language={lang}: F1 = {f1} and Bleu = {bleu}\")"
   ]
  },
  {
   "cell_type": "markdown",
   "id": "a8a5dcdc",
   "metadata": {},
   "source": [
    "## MT5 + Swinv2"
   ]
  },
  {
   "cell_type": "code",
   "execution_count": 5,
   "id": "9bdda907",
   "metadata": {
    "scrolled": true
   },
   "outputs": [
    {
     "name": "stdout",
     "output_type": "stream",
     "text": [
      "------------------- EN -------------------\n",
      "Metrics of Language=en - Question Type=HOW_MANY: F1 = nan and Bleu = 0.0\n",
      "Metrics of Language=en - Question Type=WHAT_COLOR: F1 = nan and Bleu = 0.0\n",
      "Metrics of Language=en - Question Type=WHERE: F1 = 0.20909375609204933 and Bleu = 0.10265370600055562\n",
      "Metrics of Language=en - Question Type=WHO: F1 = 0.23538172502878388 and Bleu = 0.11168642836263015\n",
      "Metrics of Language=en - Question Type=HOW: F1 = nan and Bleu = 0.0\n",
      "Metrics of Language=en - Question Type=WHAT_IS: F1 = 0.1281030421617886 and Bleu = 0.06771645815766839\n",
      "Metrics of Language=en - Question Type=WHAT_DO: F1 = 0.11394591290041657 and Bleu = 0.040896539190174254\n",
      "Metrics of Language=en - Question Type=WHICH: F1 = 0.27249139239028947 and Bleu = 0.22434913321341543\n",
      "Metrics of Language=en - Question Type=OTHERS: F1 = 0.14168227121715493 and Bleu = 0.05598377015412237\n",
      "------------------- END -------------------\n",
      "------------------- VI -------------------\n",
      "Metrics of Language=vi - Question Type=HOW_MANY: F1 = nan and Bleu = 0.0\n",
      "Metrics of Language=vi - Question Type=WHAT_COLOR: F1 = nan and Bleu = 0.0\n",
      "Metrics of Language=vi - Question Type=WHERE: F1 = 0.22669080440020337 and Bleu = 0.1312704144737558\n",
      "Metrics of Language=vi - Question Type=WHO: F1 = 0.12598048494955882 and Bleu = 0.07102462592638267\n",
      "Metrics of Language=vi - Question Type=HOW: F1 = nan and Bleu = 0.0\n",
      "Metrics of Language=vi - Question Type=WHAT_IS: F1 = 0.21420099508334806 and Bleu = 0.10967559273621276\n",
      "Metrics of Language=vi - Question Type=WHAT_DO: F1 = 0.10287159028335499 and Bleu = 0.06267917379380142\n",
      "Metrics of Language=vi - Question Type=WHICH: F1 = nan and Bleu = 0.0\n",
      "Metrics of Language=vi - Question Type=OTHERS: F1 = 0.20071687048201117 and Bleu = 0.15902417731192248\n",
      "------------------- END -------------------\n",
      "------------------- JA -------------------\n",
      "Metrics of Language=ja - Question Type=HOW_MANY: F1 = nan and Bleu = 0.0\n",
      "Metrics of Language=ja - Question Type=WHAT_COLOR: F1 = nan and Bleu = 0.0\n",
      "Metrics of Language=ja - Question Type=WHERE: F1 = 0.17912541190131234 and Bleu = 0.12331739159839777\n",
      "Metrics of Language=ja - Question Type=WHO: F1 = 0.2871939961543425 and Bleu = 0.18286884381968632\n",
      "Metrics of Language=ja - Question Type=HOW: F1 = nan and Bleu = 0.0\n",
      "Metrics of Language=ja - Question Type=WHAT_IS: F1 = 0.293435226469846 and Bleu = 0.21589994968624943\n",
      "Metrics of Language=ja - Question Type=WHAT_DO: F1 = 0.314177879459851 and Bleu = 0.2717204339801878\n",
      "Metrics of Language=ja - Question Type=WHICH: F1 = 0.36859026346400786 and Bleu = 0.3471541538756284\n",
      "Metrics of Language=ja - Question Type=OTHERS: F1 = 0.21857796607704708 and Bleu = 0.17593864424517547\n",
      "------------------- END -------------------\n"
     ]
    },
    {
     "name": "stderr",
     "output_type": "stream",
     "text": [
      "/home/phucpx/vinbdi/EVJVQA/evaluate_metrics.py:142: RuntimeWarning: Mean of empty slice.\n",
      "  return np.array(scores).mean()\n",
      "/home/phucpx/miniconda3/envs/phucpx/lib/python3.7/site-packages/numpy/core/_methods.py:189: RuntimeWarning: invalid value encountered in double_scalars\n",
      "  ret = ret.dtype.type(ret / rcount)\n"
     ]
    }
   ],
   "source": [
    "with open('./outputs/results-swinv2-best-f1.json', 'r', encoding='utf-8') as f:\n",
    "    mt5vit_results = json.load(f)\n",
    "\n",
    "sep_qtype = True\n",
    "languages = ['en', 'vi', 'ja']\n",
    "# question_types = list(set(qid2qtype.values()))\n",
    "question_types = ['HOW_MANY', 'WHAT_COLOR', 'WHERE', 'WHO', 'HOW', 'WHAT_IS', 'WHAT_DO', 'WHICH', 'OTHERS']\n",
    "\n",
    "for lang in languages:\n",
    "    pred = {}\n",
    "    grth = {}\n",
    "    print(f'------------------- {lang.upper()} -------------------')\n",
    "    if sep_qtype:\n",
    "        for qtype in question_types:\n",
    "            pred = {}\n",
    "            grth = {}\n",
    "            for k, v in mt5vit_results.items():\n",
    "                if qid2lang[k] == lang and qid2qtype[k] == qtype:\n",
    "                    pred[k] = v\n",
    "                    grth[k] = gt_results[k]\n",
    "            \n",
    "            f1 = compute_f1(a_gold=grth, a_pred=pred)\n",
    "            bleu = compute_avg_bleu(a_gold=grth, a_pred=pred)\n",
    "            \n",
    "            print(f\"Metrics of Language={lang} - Question Type={qtype}: F1 = {f1} and Bleu = {bleu}\")\n",
    "    \n",
    "        print(f'------------------- END -------------------')\n",
    "    else:\n",
    "        for k, v in mt5vit_results.items():\n",
    "            if qid2lang[k] == lang:\n",
    "                pred[k] = v\n",
    "                grth[k] = gt_results[k]\n",
    "\n",
    "        f1 = compute_f1(a_gold=grth, a_pred=pred)\n",
    "        bleu = compute_avg_bleu(a_gold=grth, a_pred=pred)\n",
    "            \n",
    "        print(f\"Metrics of Language={lang}: F1 = {f1} and Bleu = {bleu}\")"
   ]
  },
  {
   "cell_type": "markdown",
   "id": "95a446b7",
   "metadata": {},
   "source": [
    "## Others"
   ]
  },
  {
   "cell_type": "code",
   "execution_count": 58,
   "id": "09babd76",
   "metadata": {},
   "outputs": [
    {
     "name": "stdout",
     "output_type": "stream",
     "text": [
      "------------------- EN -------------------\n",
      "Metrics of Language=en - Question Type=HOW_MANY: F1 = 0.3493595137257109 and Bleu = 0.016324290363357606\n",
      "Metrics of Language=en - Question Type=WHAT_COLOR: F1 = nan and Bleu = 0.0\n",
      "Metrics of Language=en - Question Type=WHERE: F1 = nan and Bleu = 0.0\n",
      "Metrics of Language=en - Question Type=WHO: F1 = nan and Bleu = 0.0\n",
      "Metrics of Language=en - Question Type=HOW: F1 = nan and Bleu = 0.0\n",
      "Metrics of Language=en - Question Type=WHAT_IS: F1 = nan and Bleu = 0.0\n",
      "Metrics of Language=en - Question Type=WHAT_DO: F1 = nan and Bleu = 0.0\n",
      "Metrics of Language=en - Question Type=WHICH: F1 = nan and Bleu = 0.0\n",
      "Metrics of Language=en - Question Type=OTHERS: F1 = nan and Bleu = 0.0\n",
      "------------------- END -------------------\n",
      "------------------- VI -------------------\n",
      "Metrics of Language=vi - Question Type=HOW_MANY: F1 = 0.5084903728016643 and Bleu = 0.3144087616140433\n",
      "Metrics of Language=vi - Question Type=WHAT_COLOR: F1 = nan and Bleu = 0.0\n",
      "Metrics of Language=vi - Question Type=WHERE: F1 = nan and Bleu = 0.0\n",
      "Metrics of Language=vi - Question Type=WHO: F1 = nan and Bleu = 0.0\n",
      "Metrics of Language=vi - Question Type=HOW: F1 = nan and Bleu = 0.0\n",
      "Metrics of Language=vi - Question Type=WHAT_IS: F1 = nan and Bleu = 0.0\n",
      "Metrics of Language=vi - Question Type=WHAT_DO: F1 = nan and Bleu = 0.0\n",
      "Metrics of Language=vi - Question Type=WHICH: F1 = nan and Bleu = 0.0\n",
      "Metrics of Language=vi - Question Type=OTHERS: F1 = nan and Bleu = 0.0\n",
      "------------------- END -------------------\n",
      "------------------- JA -------------------\n",
      "Metrics of Language=ja - Question Type=HOW_MANY: F1 = 0.36637452514169483 and Bleu = 0.2830060447419473\n",
      "Metrics of Language=ja - Question Type=WHAT_COLOR: F1 = nan and Bleu = 0.0\n",
      "Metrics of Language=ja - Question Type=WHERE: F1 = nan and Bleu = 0.0\n",
      "Metrics of Language=ja - Question Type=WHO: F1 = nan and Bleu = 0.0\n",
      "Metrics of Language=ja - Question Type=HOW: F1 = nan and Bleu = 0.0\n",
      "Metrics of Language=ja - Question Type=WHAT_IS: F1 = nan and Bleu = 0.0\n",
      "Metrics of Language=ja - Question Type=WHAT_DO: F1 = nan and Bleu = 0.0\n",
      "Metrics of Language=ja - Question Type=WHICH: F1 = nan and Bleu = 0.0\n",
      "Metrics of Language=ja - Question Type=OTHERS: F1 = nan and Bleu = 0.0\n",
      "------------------- END -------------------\n"
     ]
    }
   ],
   "source": [
    "with open('./outputs/result-how-many.json', 'r', encoding='utf-8') as f:\n",
    "    other_results = json.load(f)\n",
    "\n",
    "sep_qtype = True\n",
    "languages = ['en', 'vi', 'ja']\n",
    "question_types = ['HOW_MANY', 'WHAT_COLOR', 'WHERE', 'WHO', 'HOW', 'WHAT_IS', 'WHAT_DO', 'WHICH', 'OTHERS']\n",
    "\n",
    "for lang in languages:\n",
    "    pred = {}\n",
    "    grth = {}\n",
    "    print(f'------------------- {lang.upper()} -------------------')\n",
    "    if sep_qtype:\n",
    "        for qtype in question_types:\n",
    "            pred = {}\n",
    "            grth = {}\n",
    "            for k, v in other_results.items():\n",
    "                if qid2lang[k] == lang and qid2qtype[k] == qtype:\n",
    "                    pred[k] = v\n",
    "                    grth[k] = gt_results[k]\n",
    "            \n",
    "            f1 = compute_f1(a_gold=grth, a_pred=pred)\n",
    "            bleu = compute_avg_bleu(a_gold=grth, a_pred=pred)\n",
    "            \n",
    "            print(f\"Metrics of Language={lang} - Question Type={qtype}: F1 = {f1} and Bleu = {bleu}\")\n",
    "    \n",
    "        print(f'------------------- END -------------------')\n",
    "    else:\n",
    "        for k, v in other_results.items():\n",
    "            if qid2lang[k] == lang:\n",
    "                pred[k] = v\n",
    "                grth[k] = gt_results[k]\n",
    "\n",
    "        f1 = compute_f1(a_gold=grth, a_pred=pred)\n",
    "        bleu = compute_avg_bleu(a_gold=grth, a_pred=pred)\n",
    "            \n",
    "        print(f\"Metrics of Language={lang}: F1 = {f1} and Bleu = {bleu}\")"
   ]
  },
  {
   "cell_type": "markdown",
   "id": "6da8524e",
   "metadata": {},
   "source": [
    "## Prepare training data"
   ]
  },
  {
   "cell_type": "code",
   "execution_count": 50,
   "id": "4af1a102",
   "metadata": {},
   "outputs": [],
   "source": [
    "with open('./data/train/evjvqa_train_lang_qtype-detailed.json', 'r', encoding='utf-8') as f:\n",
    "    train_data = json.load(f)\n",
    "    \n",
    "train_annotations = train_data['annotations']"
   ]
  },
  {
   "cell_type": "code",
   "execution_count": 51,
   "id": "08ebbe47",
   "metadata": {},
   "outputs": [
    {
     "data": {
      "application/vnd.jupyter.widget-view+json": {
       "model_id": "a7bca087bc90425ca751f9a6a89ff2ad",
       "version_major": 2,
       "version_minor": 0
      },
      "text/plain": [
       "  0%|          | 0/23785 [00:00<?, ?it/s]"
      ]
     },
     "metadata": {},
     "output_type": "display_data"
    },
    {
     "name": "stdout",
     "output_type": "stream",
     "text": [
      "14707\n"
     ]
    }
   ],
   "source": [
    "subtrain_annotations = []\n",
    "\n",
    "LIST_QTYPES = ['WHAT_IS', 'WHO', 'WHERE', 'OTHERS', 'WHAT_DO', 'WHICH']\n",
    "\n",
    "for anno in tqdm(train_annotations):\n",
    "    if anno['question_type'] in LIST_QTYPES:\n",
    "        subtrain_annotations.append(anno)\n",
    "        \n",
    "print(len(subtrain_annotations))\n",
    "\n",
    "subtrain_dict = {\n",
    "    'images': train_data['images'],\n",
    "    'annotations': subtrain_annotations\n",
    "}"
   ]
  },
  {
   "cell_type": "code",
   "execution_count": 52,
   "id": "303e04a9",
   "metadata": {},
   "outputs": [],
   "source": [
    "with open('./data/train/evjvqa-subtrain-obj.json', 'w', encoding='utf-8') as f:\n",
    "    json.dump(subtrain_dict, f, indent=4, ensure_ascii=False)"
   ]
  },
  {
   "cell_type": "code",
   "execution_count": 53,
   "id": "f7849161",
   "metadata": {},
   "outputs": [
    {
     "data": {
      "application/vnd.jupyter.widget-view+json": {
       "model_id": "4a28b885c13647f18d7870b2ddb82899",
       "version_major": 2,
       "version_minor": 0
      },
      "text/plain": [
       "  0%|          | 0/5015 [00:00<?, ?it/s]"
      ]
     },
     "metadata": {},
     "output_type": "display_data"
    },
    {
     "name": "stdout",
     "output_type": "stream",
     "text": [
      "3237\n"
     ]
    }
   ],
   "source": [
    "with open('./data/test/evjvqa_public_test-lang-qtype-answer.json', 'r', encoding='utf-8') as f:\n",
    "    test_data = json.load(f)\n",
    "    \n",
    "test_annotations = test_data['annotations']\n",
    "\n",
    "subtest_annotations = []\n",
    "\n",
    "LIST_QTYPES = ['WHAT_IS', 'WHO', 'WHERE', 'OTHERS', 'WHAT_DO', 'WHICH']\n",
    "\n",
    "for anno in tqdm(test_annotations):\n",
    "    if anno['question_type'] in LIST_QTYPES:\n",
    "        subtest_annotations.append(anno)\n",
    "        \n",
    "print(len(subtest_annotations))\n",
    "\n",
    "subtest_dict = {\n",
    "    'images': test_data['images'],\n",
    "    'annotations': subtest_annotations\n",
    "}\n",
    "\n",
    "with open('./data/test/evjvqa-subtest-obj.json', 'w', encoding='utf-8') as f:\n",
    "    json.dump(subtest_dict, f, indent=4, ensure_ascii=False)"
   ]
  },
  {
   "cell_type": "code",
   "execution_count": null,
   "id": "100ca40a",
   "metadata": {},
   "outputs": [],
   "source": []
  }
 ],
 "metadata": {
  "kernelspec": {
   "display_name": "phucpx",
   "language": "python",
   "name": "phucpx"
  },
  "language_info": {
   "codemirror_mode": {
    "name": "ipython",
    "version": 3
   },
   "file_extension": ".py",
   "mimetype": "text/x-python",
   "name": "python",
   "nbconvert_exporter": "python",
   "pygments_lexer": "ipython3",
   "version": "3.7.1"
  }
 },
 "nbformat": 4,
 "nbformat_minor": 5
}
