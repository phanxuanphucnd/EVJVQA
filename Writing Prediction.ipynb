{
 "cells": [
  {
   "cell_type": "code",
   "execution_count": 2,
   "id": "5fd3c6c3",
   "metadata": {},
   "outputs": [
    {
     "name": "stderr",
     "output_type": "stream",
     "text": [
      "/home/phucpx/miniconda3/envs/phucpx/lib/python3.7/site-packages/fuzzywuzzy/fuzz.py:11: UserWarning: Using slow pure-python SequenceMatcher. Install python-Levenshtein to remove this warning\n",
      "  warnings.warn('Using slow pure-python SequenceMatcher. Install python-Levenshtein to remove this warning')\n",
      "/home/phucpx/miniconda3/envs/phucpx/lib/python3.7/site-packages/ipykernel_launcher.py:7: TqdmExperimentalWarning: Using `tqdm.autonotebook.tqdm` in notebook mode. Use `tqdm.tqdm` instead to force console mode (e.g. in jupyter console)\n",
      "  import sys\n"
     ]
    }
   ],
   "source": [
    "import json\n",
    "import httpx\n",
    "import string\n",
    "from fuzzywuzzy import fuzz\n",
    "from num2words import num2words\n",
    "from googletrans import Translator\n",
    "from tqdm.autonotebook import tqdm"
   ]
  },
  {
   "cell_type": "code",
   "execution_count": 3,
   "id": "64e2a033",
   "metadata": {},
   "outputs": [],
   "source": [
    "timeout = httpx.Timeout(30) \n",
    "gg_translator = Translator(timeout=timeout)\n",
    "vi_num2words_dict = {\n",
    "    0: 'không',\n",
    "    1: 'một',\n",
    "    2: 'hai',\n",
    "    3: 'ba',\n",
    "    4: 'bốn',\n",
    "    5: 'năm',\n",
    "    6: 'sáu',\n",
    "    7: 'bảy',\n",
    "    8: 'tám',\n",
    "    9: 'chín',\n",
    "    10: 'mười'\n",
    "}\n",
    "vi_words2num_dict = {\n",
    "    'không': 0,\n",
    "    'một': 1,\n",
    "    'hai': 2,\n",
    "    'ba': 3,\n",
    "    'bốn': 4,\n",
    "    'năm': 5,\n",
    "    'sáu': 6,\n",
    "    'bảy': 7,\n",
    "    'tám': 8,\n",
    "    'chín': 9,\n",
    "    'mười': 10\n",
    "}\n",
    "\n",
    "def remove_punc(text):\n",
    "    text = text.lower()\n",
    "    exclude = set(string.punctuation)\n",
    "    return ''.join(ch for ch in text if ch not in exclude)\n",
    "\n",
    "\n",
    "def get_samples_by_id(image_id, annotations):\n",
    "    return_samples = []\n",
    "    for anno in annotations:\n",
    "        if anno['image_id'] == image_id:\n",
    "            return_samples.append(anno)\n",
    "\n",
    "    return return_samples"
   ]
  },
  {
   "cell_type": "code",
   "execution_count": 11,
   "id": "11fc3c09",
   "metadata": {},
   "outputs": [],
   "source": [
    "group_questions = []\n",
    "\n",
    "with open('./data/test/evjvqa_public_test-lang-qtype-answer.json', 'r', encoding='utf-8') as f:\n",
    "    test_data = json.load(f)\n",
    "    \n",
    "test_annotations = test_data['annotations']\n",
    "\n",
    "\n",
    "with open('./outputs/results-ofa-huge-en.json', 'r', encoding='utf-8') as f:\n",
    "    ofa = json.load(f)\n",
    "\n",
    "\n",
    "with open('./outputs/results-mt5-vit.json', 'r', encoding='utf-8') as f:\n",
    "    mt5vit = json.load(f)"
   ]
  },
  {
   "cell_type": "code",
   "execution_count": 10,
   "id": "3fca58a6",
   "metadata": {},
   "outputs": [
    {
     "data": {
      "application/vnd.jupyter.widget-view+json": {
       "model_id": "64dcfc5fe7244719b11ad1e4029929bf",
       "version_major": 2,
       "version_minor": 0
      },
      "text/plain": [
       "  0%|          | 0/5015 [00:00<?, ?it/s]"
      ]
     },
     "metadata": {},
     "output_type": "display_data"
    },
    {
     "ename": "KeyError",
     "evalue": "'1705'",
     "output_type": "error",
     "traceback": [
      "\u001b[0;31m---------------------------------------------------------------------------\u001b[0m",
      "\u001b[0;31mKeyError\u001b[0m                                  Traceback (most recent call last)",
      "\u001b[0;32m/tmp/ipykernel_5775/3078455447.py\u001b[0m in \u001b[0;36m<module>\u001b[0;34m\u001b[0m\n\u001b[1;32m      3\u001b[0m \u001b[0;34m\u001b[0m\u001b[0m\n\u001b[1;32m      4\u001b[0m     \u001b[0;32mif\u001b[0m \u001b[0manno\u001b[0m\u001b[0;34m[\u001b[0m\u001b[0;34m'question_type'\u001b[0m\u001b[0;34m]\u001b[0m \u001b[0;34m==\u001b[0m \u001b[0;34m'HOW_MANY'\u001b[0m \u001b[0;32mand\u001b[0m \u001b[0manno\u001b[0m\u001b[0;34m[\u001b[0m\u001b[0;34m'language'\u001b[0m\u001b[0;34m]\u001b[0m \u001b[0;34m==\u001b[0m \u001b[0;34m'en'\u001b[0m\u001b[0;34m:\u001b[0m\u001b[0;34m\u001b[0m\u001b[0m\n\u001b[0;32m----> 5\u001b[0;31m         \u001b[0manswer\u001b[0m \u001b[0;34m=\u001b[0m \u001b[0mofa\u001b[0m\u001b[0;34m[\u001b[0m\u001b[0mstr\u001b[0m\u001b[0;34m(\u001b[0m\u001b[0mi\u001b[0m\u001b[0;34m)\u001b[0m\u001b[0;34m]\u001b[0m\u001b[0;34m\u001b[0m\u001b[0m\n\u001b[0m",
      "\u001b[0;31mKeyError\u001b[0m: '1705'"
     ]
    }
   ],
   "source": [
    "for i in tqdm(range(len(test_annotations))):\n",
    "    anno = test_annotations[i]\n",
    "    \n",
    "    if anno['question_type'] == 'HOW_MANY':\n",
    "        if anno['language'] == 'en':\n",
    "            answer = ofa[str(i)]\n",
    "        else:\n",
    "            current_answer = mt5vit[str(i)]\n",
    "            tokens = current_answer.split()\n",
    "            \n",
    "            gr_samples = get_samples_by_id(anno['image_id'], annotations)\n",
    "            en_question = gg_translator.translate(anno['question'], src=anno['language'], dest='en').text\n",
    "            en_question = en_question.lower()\n",
    "\n",
    "            max_score = 0\n",
    "            similar_sample = None\n",
    "            for sample in gr_samples:                    \n",
    "                if sample['language'] == 'en':\n",
    "                    fuzze_score = fuzz.partial_ratio(en_question, sample['question'])\n",
    "                    if fuzze_score > max_score:\n",
    "                        similar_sample = sample\n",
    "                        max_score = fuzze_score\n",
    "\n",
    "            if max_score >= 85 and similar_sample:\n",
    "                tmp_answer = ofa[str(similar_sample['id'])]\n",
    "                answer = gg_translator.translate(tmp_answer, src='en', dest=anno['language']).text\n",
    "                if anno['language'] == 'vi':\n",
    "                    tmp = vi_num2words_dict[int(answer)]\n",
    "                    for j in range(len(tokens)):\n",
    "                        if tokens[j] in vi_words2num_dict:\n",
    "                            tokens[j] = tmp\n",
    "\n",
    "                    answer = ' '.join(tokens)\n",
    "\n",
    "            else:\n",
    "                raise ValueError(f\"This question '{anno['question']}' does not have a similar sentence.\")"
   ]
  },
  {
   "cell_type": "code",
   "execution_count": null,
   "id": "acdfa6b1",
   "metadata": {},
   "outputs": [],
   "source": []
  }
 ],
 "metadata": {
  "kernelspec": {
   "display_name": "phucpx",
   "language": "python",
   "name": "phucpx"
  },
  "language_info": {
   "codemirror_mode": {
    "name": "ipython",
    "version": 3
   },
   "file_extension": ".py",
   "mimetype": "text/x-python",
   "name": "python",
   "nbconvert_exporter": "python",
   "pygments_lexer": "ipython3",
   "version": "3.7.0"
  }
 },
 "nbformat": 4,
 "nbformat_minor": 5
}
