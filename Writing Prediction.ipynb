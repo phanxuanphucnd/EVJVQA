{
 "cells": [
  {
   "cell_type": "code",
   "execution_count": 1,
   "id": "5fd3c6c3",
   "metadata": {},
   "outputs": [
    {
     "name": "stderr",
     "output_type": "stream",
     "text": [
      "/home/phucpx/miniconda3/envs/phucpx/lib/python3.7/site-packages/fuzzywuzzy/fuzz.py:11: UserWarning: Using slow pure-python SequenceMatcher. Install python-Levenshtein to remove this warning\n",
      "  warnings.warn('Using slow pure-python SequenceMatcher. Install python-Levenshtein to remove this warning')\n",
      "/home/phucpx/miniconda3/envs/phucpx/lib/python3.7/site-packages/ipykernel_launcher.py:7: TqdmExperimentalWarning: Using `tqdm.autonotebook.tqdm` in notebook mode. Use `tqdm.tqdm` instead to force console mode (e.g. in jupyter console)\n",
      "  import sys\n"
     ]
    }
   ],
   "source": [
    "import json\n",
    "import httpx\n",
    "import string\n",
    "from fuzzywuzzy import fuzz\n",
    "from num2words import num2words\n",
    "from googletrans import Translator\n",
    "from tqdm.autonotebook import tqdm"
   ]
  },
  {
   "cell_type": "code",
   "execution_count": 2,
   "id": "64e2a033",
   "metadata": {},
   "outputs": [],
   "source": [
    "timeout = httpx.Timeout(30) \n",
    "gg_translator = Translator(timeout=timeout)\n",
    "vi_num2words_dict = {\n",
    "    0: 'không',\n",
    "    1: 'một',\n",
    "    2: 'hai',\n",
    "    3: 'ba',\n",
    "    4: 'bốn',\n",
    "    5: 'năm',\n",
    "    6: 'sáu',\n",
    "    7: 'bảy',\n",
    "    8: 'tám',\n",
    "    9: 'chín',\n",
    "    10: 'mười'\n",
    "}\n",
    "vi_words2num_dict = {\n",
    "    'không': 0,\n",
    "    'một': 1,\n",
    "    'hai': 2,\n",
    "    'ba': 3,\n",
    "    'bốn': 4,\n",
    "    'năm': 5,\n",
    "    'sáu': 6,\n",
    "    'bảy': 7,\n",
    "    'tám': 8,\n",
    "    'chín': 9,\n",
    "    'mười': 10\n",
    "}\n",
    "\n",
    "def remove_punc(text):\n",
    "    text = text.lower()\n",
    "    exclude = set(string.punctuation)\n",
    "    return ''.join(ch for ch in text if ch not in exclude)\n",
    "\n",
    "\n",
    "def get_samples_by_id(image_id, annotations, question_type):\n",
    "    return_samples = []\n",
    "    for anno in annotations:\n",
    "        if anno['image_id'] == image_id:\n",
    "            if anno['question_type'] == question_type:\n",
    "                return_samples.append(anno)\n",
    "\n",
    "    return return_samples"
   ]
  },
  {
   "cell_type": "code",
   "execution_count": 4,
   "id": "11fc3c09",
   "metadata": {},
   "outputs": [],
   "source": [
    "group_questions = []\n",
    "\n",
    "with open('./data/private-test/evjvqa_private_test-desc-lang-qtype.json', 'r', encoding='utf-8') as f:\n",
    "    test_data = json.load(f)\n",
    "    \n",
    "test_annotations = test_data['annotations']"
   ]
  },
  {
   "cell_type": "code",
   "execution_count": 5,
   "id": "01389f98",
   "metadata": {},
   "outputs": [],
   "source": [
    "group_qids = {}\n",
    "return_answers = {}"
   ]
  },
  {
   "cell_type": "code",
   "execution_count": 6,
   "id": "5911e7c0",
   "metadata": {},
   "outputs": [],
   "source": [
    "def get_by_language(annotations, language='en'):\n",
    "    tmp = []\n",
    "    for anno in annotations:\n",
    "        if anno['language'] == language:\n",
    "            tmp.append(anno)\n",
    "\n",
    "    return tmp"
   ]
  },
  {
   "cell_type": "code",
   "execution_count": 7,
   "id": "fbc4fa3a",
   "metadata": {},
   "outputs": [
    {
     "data": {
      "application/vnd.jupyter.widget-view+json": {
       "model_id": "cf7405e19c2044d5bcf92665b1b272c5",
       "version_major": 2,
       "version_minor": 0
      },
      "text/plain": [
       "  0%|          | 0/10000 [00:00<?, ?it/s]"
      ]
     },
     "metadata": {},
     "output_type": "display_data"
    },
    {
     "data": {
      "text/plain": [
       "554"
      ]
     },
     "execution_count": 7,
     "metadata": {},
     "output_type": "execute_result"
    }
   ],
   "source": [
    "group_qids = []\n",
    "images_id_processed = []\n",
    "ignore = []\n",
    "\n",
    "for i in tqdm(range(len(test_annotations))):\n",
    "    anno = test_annotations[i]\n",
    "    image_id = anno['image_id']\n",
    "    \n",
    "    question_type = 'HOW_MANY'\n",
    "    \n",
    "    if not image_id in images_id_processed:\n",
    "        if anno['question_type'] == question_type:\n",
    "            gr_samples = get_samples_by_id(image_id, test_annotations, question_type)\n",
    "\n",
    "            en = get_by_language(gr_samples, language='en')\n",
    "            vi = get_by_language(gr_samples, language='vi')\n",
    "            ja = get_by_language(gr_samples, language='ja')\n",
    "\n",
    "            max_leng = max(len(en), len(vi), len(ja))\n",
    "            for j in range(max_leng):\n",
    "                group = []\n",
    "                try:\n",
    "                    group.append(en[j]['id'])\n",
    "                except:\n",
    "                    group.append(None)\n",
    "\n",
    "                try:\n",
    "                    group.append(vi[j]['id'])\n",
    "                except:\n",
    "                    group.append(None)\n",
    "\n",
    "                try:\n",
    "                    group.append(ja[j]['id'])\n",
    "                except:\n",
    "                    group.append(None)\n",
    "\n",
    "                group_qids.append(group)\n",
    "            \n",
    "            images_id_processed.append(image_id)\n",
    "\n",
    "len(group_qids)"
   ]
  },
  {
   "cell_type": "code",
   "execution_count": 9,
   "id": "c4868557",
   "metadata": {},
   "outputs": [],
   "source": [
    "with open('./data/private-test/group-howmnay-private.md', 'w', encoding='utf-8') as f:\n",
    "    for gr in group_qids:\n",
    "        f.writelines(f\"{gr}\\n\")"
   ]
  },
  {
   "cell_type": "code",
   "execution_count": 33,
   "id": "baeac3eb",
   "metadata": {},
   "outputs": [
    {
     "data": {
      "text/plain": [
       "55"
      ]
     },
     "execution_count": 33,
     "metadata": {},
     "output_type": "execute_result"
    }
   ],
   "source": [
    "group_question_ids = []\n",
    "\n",
    "for gr in group_qids:\n",
    "    if not gr in group_question_ids:\n",
    "        group_question_ids.append(gr)\n",
    "        \n",
    "len(group_question_ids)"
   ]
  },
  {
   "cell_type": "code",
   "execution_count": 31,
   "id": "5ea9b37d",
   "metadata": {},
   "outputs": [
    {
     "data": {
      "text/plain": [
       "[[0, 4, 6],\n",
       " [1, 5, 7],\n",
       " [0, 6, 9],\n",
       " [1, 7, 10],\n",
       " [2, 8, 11],\n",
       " [0, 2, 3],\n",
       " [0, 10, 15],\n",
       " [1, 11, 16],\n",
       " [2, 12, 17],\n",
       " [3, 13, 18],\n",
       " [4, 14, 19],\n",
       " [0, 8, 12],\n",
       " [1, 9, 13],\n",
       " [2, 10, 14],\n",
       " [3, 11, 15],\n",
       " [0, 12, 18],\n",
       " [1, 13, 19],\n",
       " [2, 14, 20],\n",
       " [3, 15, 21],\n",
       " [4, 16, 22],\n",
       " [5, 17, 23],\n",
       " [0, 16, 24],\n",
       " [1, 17, 25],\n",
       " [2, 18, 26],\n",
       " [3, 19, 27],\n",
       " [4, 20, 28],\n",
       " [5, 21, 29],\n",
       " [6, 22, 30],\n",
       " [7, 23, 31],\n",
       " [0, 18, 27],\n",
       " [1, 19, 28],\n",
       " [2, 20, 29],\n",
       " [3, 21, 30],\n",
       " [4, 22, 31],\n",
       " [5, 23, 32],\n",
       " [6, 24, 33],\n",
       " [7, 25, 34],\n",
       " [8, 26, 35],\n",
       " [0, 14, 21],\n",
       " [1, 15, 22],\n",
       " [2, 16, 23],\n",
       " [3, 17, 24],\n",
       " [4, 18, 25],\n",
       " [5, 19, 26],\n",
       " [6, 20, 27],\n",
       " [0, 20, 30],\n",
       " [1, 21, 31],\n",
       " [2, 22, 32],\n",
       " [3, 23, 33],\n",
       " [4, 24, 34],\n",
       " [5, 25, 35],\n",
       " [6, 26, 36],\n",
       " [7, 27, 37],\n",
       " [8, 28, 38],\n",
       " [9, 29, 39]]"
      ]
     },
     "execution_count": 31,
     "metadata": {},
     "output_type": "execute_result"
    }
   ],
   "source": [
    "group_question_ids"
   ]
  },
  {
   "cell_type": "code",
   "execution_count": null,
   "id": "6dd2a98a",
   "metadata": {},
   "outputs": [],
   "source": []
  }
 ],
 "metadata": {
  "kernelspec": {
   "display_name": "phucpx",
   "language": "python",
   "name": "phucpx"
  },
  "language_info": {
   "codemirror_mode": {
    "name": "ipython",
    "version": 3
   },
   "file_extension": ".py",
   "mimetype": "text/x-python",
   "name": "python",
   "nbconvert_exporter": "python",
   "pygments_lexer": "ipython3",
   "version": "3.7.1"
  }
 },
 "nbformat": 4,
 "nbformat_minor": 5
}
