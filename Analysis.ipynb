{
 "cells": [
  {
   "cell_type": "code",
   "execution_count": 28,
   "id": "73b692cb",
   "metadata": {},
   "outputs": [],
   "source": [
    "import json\n",
    "from langdetect import detect\n",
    "from tqdm.notebook import tqdm"
   ]
  },
  {
   "cell_type": "code",
   "execution_count": 29,
   "id": "37de6c07",
   "metadata": {},
   "outputs": [],
   "source": [
    "with open('./data/evjvqa_train_lang.json', 'r', encoding='utf-8') as f:\n",
    "    data = json.load(f)\n",
    "    \n",
    "annotations = data['annotations']"
   ]
  },
  {
   "cell_type": "code",
   "execution_count": 30,
   "id": "226afe9c",
   "metadata": {},
   "outputs": [
    {
     "data": {
      "text/plain": [
       "23785"
      ]
     },
     "execution_count": 30,
     "metadata": {},
     "output_type": "execute_result"
    }
   ],
   "source": [
    "len(annotations)"
   ]
  },
  {
   "cell_type": "code",
   "execution_count": 31,
   "id": "718bc76e",
   "metadata": {},
   "outputs": [
    {
     "data": {
      "application/vnd.jupyter.widget-view+json": {
       "model_id": "2f541d340d024e9da5bc2408a1c10db0",
       "version_major": 2,
       "version_minor": 0
      },
      "text/plain": [
       "  0%|          | 0/23785 [00:00<?, ?it/s]"
      ]
     },
     "metadata": {},
     "output_type": "display_data"
    },
    {
     "data": {
      "text/plain": [
       "{'vi': 8332, 'en': 7194, 'ja': 8259}"
      ]
     },
     "execution_count": 31,
     "metadata": {},
     "output_type": "execute_result"
    }
   ],
   "source": [
    "lang_count = {\n",
    "    \"vi\": 0,\n",
    "    \"en\": 0,\n",
    "    \"ja\": 0\n",
    "}\n",
    "\n",
    "for anno in tqdm(annotations):\n",
    "    question = anno['question']\n",
    "#     lang = detect(question)\n",
    "#     anno['language'] = lang\n",
    "    lang_count[anno['language']] += 1\n",
    "        \n",
    "lang_count"
   ]
  },
  {
   "cell_type": "code",
   "execution_count": null,
   "id": "1b580874",
   "metadata": {},
   "outputs": [],
   "source": []
  }
 ],
 "metadata": {
  "kernelspec": {
   "display_name": "Python 3.7.1 ('phucpx')",
   "language": "python",
   "name": "python3"
  },
  "language_info": {
   "codemirror_mode": {
    "name": "ipython",
    "version": 3
   },
   "file_extension": ".py",
   "mimetype": "text/x-python",
   "name": "python",
   "nbconvert_exporter": "python",
   "pygments_lexer": "ipython3",
   "version": "3.7.1"
  },
  "vscode": {
   "interpreter": {
    "hash": "059c3606061902c6a30161bdcedcf47a179ee48a2380f3c0aaeaa7e205cec67a"
   }
  }
 },
 "nbformat": 4,
 "nbformat_minor": 5
}
