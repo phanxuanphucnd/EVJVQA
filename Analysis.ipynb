{
 "cells": [
  {
   "cell_type": "code",
   "execution_count": 13,
   "id": "73b692cb",
   "metadata": {},
   "outputs": [
    {
     "name": "stderr",
     "output_type": "stream",
     "text": [
      "[nltk_data] Downloading package stopwords to /home/phucpx/nltk_data...\n",
      "[nltk_data]   Unzipping corpora/stopwords.zip.\n"
     ]
    },
    {
     "data": {
      "text/plain": [
       "True"
      ]
     },
     "execution_count": 13,
     "metadata": {},
     "output_type": "execute_result"
    }
   ],
   "source": [
    "import json\n",
    "import nltk\n",
    "import string\n",
    "from langdetect import detect\n",
    "from tqdm.notebook import tqdm\n",
    "from nltk.corpus import stopwords\n",
    "from nltk.tokenize import word_tokenize\n",
    "\n",
    "nltk.download('stopwords')"
   ]
  },
  {
   "cell_type": "code",
   "execution_count": 2,
   "id": "37de6c07",
   "metadata": {},
   "outputs": [],
   "source": [
    "with open('data/train/evjvqa_train_lang.json', 'r', encoding='utf-8') as f:\n",
    "    data = json.load(f)\n",
    "    \n",
    "annotations = data['annotations']"
   ]
  },
  {
   "cell_type": "code",
   "execution_count": 3,
   "id": "226afe9c",
   "metadata": {},
   "outputs": [
    {
     "data": {
      "text/plain": [
       "23785"
      ]
     },
     "execution_count": 3,
     "metadata": {},
     "output_type": "execute_result"
    }
   ],
   "source": [
    "len(annotations)"
   ]
  },
  {
   "cell_type": "code",
   "execution_count": 4,
   "id": "718bc76e",
   "metadata": {},
   "outputs": [
    {
     "data": {
      "application/vnd.jupyter.widget-view+json": {
       "model_id": "4aeb53f8096146b49e859439ecf246db",
       "version_major": 2,
       "version_minor": 0
      },
      "text/plain": [
       "  0%|          | 0/23785 [00:00<?, ?it/s]"
      ]
     },
     "metadata": {},
     "output_type": "display_data"
    },
    {
     "data": {
      "text/plain": [
       "{'vi': 8332, 'en': 7194, 'ja': 8259}"
      ]
     },
     "execution_count": 4,
     "metadata": {},
     "output_type": "execute_result"
    }
   ],
   "source": [
    "lang_count = {\n",
    "    \"vi\": 0,\n",
    "    \"en\": 0,\n",
    "    \"ja\": 0\n",
    "}\n",
    "\n",
    "for anno in tqdm(annotations):\n",
    "    question = anno['question']\n",
    "#     lang = detect(question)\n",
    "#     anno['language'] = lang\n",
    "    lang_count[anno['language']] += 1\n",
    "        \n",
    "lang_count"
   ]
  },
  {
   "cell_type": "code",
   "execution_count": 15,
   "id": "cc824b79",
   "metadata": {},
   "outputs": [],
   "source": [
    "def remove_punc(text):\n",
    "    text = text.lower()\n",
    "    exclude = set(string.punctuation)\n",
    "    return ''.join(ch for ch in text if ch not in exclude)\n",
    "\n",
    "def remove_stopword(text):\n",
    "    stop_words = set(stopwords.words('english'))\n",
    "  \n",
    "    word_tokens = word_tokenize(text)\n",
    "\n",
    "    filtered_sentence = [w for w in word_tokens if not w.lower() in stop_words]\n",
    "\n",
    "    filtered_sentence = []\n",
    "\n",
    "    for w in word_tokens:\n",
    "        if w not in stop_words:\n",
    "            filtered_sentence.append(w)\n",
    "            \n",
    "    return ' '.join(filtered_sentence)"
   ]
  },
  {
   "cell_type": "code",
   "execution_count": 16,
   "id": "1b580874",
   "metadata": {},
   "outputs": [
    {
     "data": {
      "application/vnd.jupyter.widget-view+json": {
       "model_id": "50ab7308e81c4c74952824e47ad840c6",
       "version_major": 2,
       "version_minor": 0
      },
      "text/plain": [
       "  0%|          | 0/23785 [00:00<?, ?it/s]"
      ]
     },
     "metadata": {},
     "output_type": "display_data"
    }
   ],
   "source": [
    "for anno in tqdm(annotations):\n",
    "    answer = remove_punc(anno['answer'])\n",
    "    question = remove_punc(anno['question'])\n",
    "    \n",
    "    answer = remove_stopword(answer)\n",
    "    ans_words = answer.split()\n",
    "    ques_words = question.split()\n",
    "    \n",
    "    new_ans_words = []\n",
    "    for w in ans_words:\n",
    "        if w not in ques_words:\n",
    "            new_ans_words.append(w)\n",
    "    \n",
    "    anno['short_answer'] = ' '.join(new_ans_words)    "
   ]
  },
  {
   "cell_type": "code",
   "execution_count": 17,
   "id": "a064351b",
   "metadata": {},
   "outputs": [],
   "source": [
    "with open('data/train/evjvqa_train_lang-short-anw.json', 'w', encoding='utf-8') as f:\n",
    "    json.dump(data, f, indent=4, ensure_ascii=False)"
   ]
  },
  {
   "cell_type": "code",
   "execution_count": 14,
   "id": "7c634798",
   "metadata": {},
   "outputs": [
    {
     "data": {
      "text/plain": [
       "['grocery', 'store']"
      ]
     },
     "execution_count": 14,
     "metadata": {},
     "output_type": "execute_result"
    }
   ],
   "source": [
    "remove_stopword('in a grocery store')"
   ]
  },
  {
   "cell_type": "code",
   "execution_count": 24,
   "id": "ef80a5cc",
   "metadata": {},
   "outputs": [],
   "source": [
    "with open('data/train/evjvqa_train_lang-short-anw.json', 'r', encoding='utf-8') as f:\n",
    "    train_data = json.load(f)\n",
    "    \n",
    "images = train_data['images']\n",
    "annotations = train_data['annotations']"
   ]
  },
  {
   "cell_type": "code",
   "execution_count": 28,
   "id": "e59009f6",
   "metadata": {},
   "outputs": [
    {
     "data": {
      "application/vnd.jupyter.widget-view+json": {
       "model_id": "2dc1f351eadb403b923b50699e8e123b",
       "version_major": 2,
       "version_minor": 0
      },
      "text/plain": [
       "  0%|          | 0/23785 [00:00<?, ?it/s]"
      ]
     },
     "metadata": {},
     "output_type": "display_data"
    }
   ],
   "source": [
    "all_questions = []\n",
    "all_annotations = []\n",
    "\n",
    "for anno in tqdm(annotations):\n",
    "    question_id = anno['id']\n",
    "    image_id = anno['image_id']\n",
    "    question = anno['question']\n",
    "    \n",
    "    all_questions.append(\n",
    "        {\n",
    "            'question_id': question_id,\n",
    "            'image_id': image_id,\n",
    "            'question': question\n",
    "        }\n",
    "    )\n",
    "    \n",
    "    question_type = None\n",
    "    answer_type = \"other\"\n",
    "    answers = [{\"answer_id\": question_id, \"answer\": anno['short_answer'], \"answer_confidence\": \"yes\"}]\n",
    "    multi_choice_answer = anno['short_answer']\n",
    "    \n",
    "    all_annotations.append(\n",
    "        {\n",
    "            'question_id': question_id,\n",
    "            'image_id': image_id,\n",
    "            'question_type': question_type,\n",
    "            'answer_type': answer_type,\n",
    "            'answers': answers,\n",
    "            'multi_choice_answer': multi_choice_answer\n",
    "        }\n",
    "    )\n",
    "    \n",
    "question_data = {\n",
    "    'questions': all_questions\n",
    "}\n",
    "annotation_data = {\n",
    "    'annotations': all_annotations\n",
    "}"
   ]
  },
  {
   "cell_type": "code",
   "execution_count": 29,
   "id": "31db9af0",
   "metadata": {},
   "outputs": [],
   "source": [
    "with open('./data/EVJVQA/train_questions.json', 'w', encoding='utf-8') as f:\n",
    "    json.dump(question_data, f, indent=4, ensure_ascii=False)\n",
    "    \n",
    "with open('./data/EVJVQA/train_annotations.json', 'w', encoding='utf-8') as f:\n",
    "    json.dump(annotation_data, f, indent=4, ensure_ascii=False)"
   ]
  },
  {
   "cell_type": "code",
   "execution_count": 30,
   "id": "7fb52db0",
   "metadata": {},
   "outputs": [],
   "source": [
    "from transformers import ViltProcessor, ViltForQuestionAnswering\n",
    "import requests\n",
    "from PIL import Image"
   ]
  },
  {
   "cell_type": "code",
   "execution_count": 36,
   "id": "0f4b40ac",
   "metadata": {},
   "outputs": [
    {
     "name": "stdout",
     "output_type": "stream",
     "text": [
      "Predicted answer: pineapple\n"
     ]
    }
   ],
   "source": [
    "# prepare image + question\n",
    "# url = \"http://images.cocodataset.org/val2017/000000039769.jpg\"\n",
    "image = Image.open('data/train/train-images/00000002301.jpg')\n",
    "text = \"what fruit is put on the table next to the girl in red t-shirt?\"\n",
    "\n",
    "processor = ViltProcessor.from_pretrained(\"dandelin/vilt-b32-finetuned-vqa\")\n",
    "model = ViltForQuestionAnswering.from_pretrained(\"dandelin/vilt-b32-finetuned-vqa\")\n",
    "\n",
    "# prepare inputs\n",
    "encoding = processor(image, text, return_tensors=\"pt\")\n",
    "\n",
    "# forward pass\n",
    "outputs = model(**encoding)\n",
    "logits = outputs.logits\n",
    "idx = logits.argmax(-1).item()\n",
    "\n",
    "\n",
    "\n",
    "print(\"Predicted answer:\", model.config.id2label[idx])"
   ]
  },
  {
   "cell_type": "code",
   "execution_count": null,
   "id": "864ec080",
   "metadata": {},
   "outputs": [],
   "source": []
  }
 ],
 "metadata": {
  "kernelspec": {
   "display_name": "Python 3 (ipykernel)",
   "language": "python",
   "name": "python3"
  },
  "language_info": {
   "codemirror_mode": {
    "name": "ipython",
    "version": 3
   },
   "file_extension": ".py",
   "mimetype": "text/x-python",
   "name": "python",
   "nbconvert_exporter": "python",
   "pygments_lexer": "ipython3",
   "version": "3.7.1"
  },
  "vscode": {
   "interpreter": {
    "hash": "059c3606061902c6a30161bdcedcf47a179ee48a2380f3c0aaeaa7e205cec67a"
   }
  }
 },
 "nbformat": 4,
 "nbformat_minor": 5
}
