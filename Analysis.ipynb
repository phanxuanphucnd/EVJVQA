{
 "cells": [
  {
   "cell_type": "code",
   "execution_count": 34,
   "id": "73b692cb",
   "metadata": {},
   "outputs": [
    {
     "name": "stderr",
     "output_type": "stream",
     "text": [
      "[nltk_data] Downloading package stopwords to /home/phucpx/nltk_data...\n",
      "[nltk_data]   Package stopwords is already up-to-date!\n"
     ]
    },
    {
     "data": {
      "text/plain": [
       "True"
      ]
     },
     "execution_count": 34,
     "metadata": {},
     "output_type": "execute_result"
    }
   ],
   "source": [
    "import json\n",
    "import nltk\n",
    "import string\n",
    "import pandas as pd\n",
    "from langdetect import detect\n",
    "from tqdm.notebook import tqdm\n",
    "from nltk.corpus import stopwords\n",
    "from nltk.tokenize import word_tokenize\n",
    "\n",
    "nltk.download('stopwords')"
   ]
  },
  {
   "cell_type": "code",
   "execution_count": 49,
   "id": "37de6c07",
   "metadata": {},
   "outputs": [],
   "source": [
    "# with open('data/train/evjvqa_train_lang-short-anw.json', 'r', encoding='utf-8') as f:\n",
    "#     train_data = json.load(f)\n",
    "\n",
    "# train_annotations = train_data['annotations']\n",
    "\n",
    "with open('data/test/official_evjvqa_public_test_lang.json', 'r', encoding='utf-8') as f:\n",
    "    train_data = json.load(f)\n",
    "\n",
    "train_annotations = train_data['annotations']"
   ]
  },
  {
   "cell_type": "code",
   "execution_count": 50,
   "id": "226afe9c",
   "metadata": {},
   "outputs": [
    {
     "data": {
      "text/plain": [
       "5015"
      ]
     },
     "execution_count": 50,
     "metadata": {},
     "output_type": "execute_result"
    }
   ],
   "source": [
    "len(train_annotations)"
   ]
  },
  {
   "cell_type": "code",
   "execution_count": 51,
   "id": "718bc76e",
   "metadata": {},
   "outputs": [
    {
     "data": {
      "application/vnd.jupyter.widget-view+json": {
       "model_id": "4c771c3148bf4afda7e1458cf03b8942",
       "version_major": 2,
       "version_minor": 0
      },
      "text/plain": [
       "  0%|          | 0/5015 [00:00<?, ?it/s]"
      ]
     },
     "metadata": {},
     "output_type": "display_data"
    },
    {
     "data": {
      "text/plain": [
       "{'vi': 1678, 'en': 1686, 'ja': 1651}"
      ]
     },
     "execution_count": 51,
     "metadata": {},
     "output_type": "execute_result"
    }
   ],
   "source": [
    "lang_count = {\n",
    "    \"vi\": 0,\n",
    "    \"en\": 0,\n",
    "    \"ja\": 0\n",
    "}\n",
    "\n",
    "for anno in tqdm(train_annotations):\n",
    "    question = anno['question']\n",
    "#     lang = detect(question)\n",
    "#     anno['language'] = lang\n",
    "    lang_count[anno['language']] += 1\n",
    "        \n",
    "lang_count"
   ]
  },
  {
   "cell_type": "code",
   "execution_count": 52,
   "id": "cc824b79",
   "metadata": {},
   "outputs": [],
   "source": [
    "def remove_punc(text):\n",
    "    text = text.lower()\n",
    "    exclude = set(string.punctuation)\n",
    "    return ''.join(ch for ch in text if ch not in exclude)\n",
    "\n",
    "def remove_stopword(text):\n",
    "    stop_words = set(stopwords.words('english'))\n",
    "  \n",
    "    word_tokens = word_tokenize(text)\n",
    "\n",
    "    filtered_sentence = [w for w in word_tokens if not w.lower() in stop_words]\n",
    "\n",
    "    filtered_sentence = []\n",
    "\n",
    "    for w in word_tokens:\n",
    "        if w not in stop_words:\n",
    "            filtered_sentence.append(w)\n",
    "            \n",
    "    return ' '.join(filtered_sentence)"
   ]
  },
  {
   "cell_type": "markdown",
   "id": "4bfd4f70",
   "metadata": {},
   "source": [
    "## Group by question type"
   ]
  },
  {
   "cell_type": "code",
   "execution_count": 53,
   "id": "02d87f70",
   "metadata": {},
   "outputs": [],
   "source": [
    "en_question_type = [\n",
    "    'how many', 'how is', 'what is', 'what color', 'what do', 'where are', 'where is', 'where do', 'which', 'who'\n",
    "]\n",
    "vi_question_type = [\n",
    "    'bao nhiêu', 'như thế nào', 'làm gì', 'cái gì', 'ở đâu', 'màu gì', 'vật gì', 'phía bên nào'\n",
    "]\n",
    "\n",
    "image_ids = []\n",
    "question_ids = []\n",
    "languages = []\n",
    "group_question_type = []\n",
    "example_questions = []\n",
    "example_answers = []\n",
    "\n",
    "\n",
    "data_dict = {\n",
    "    'how many': [], \n",
    "    'how is': [], \n",
    "    'what is': [], \n",
    "    'what color': [], \n",
    "    'what do': [], \n",
    "    'where are': [], \n",
    "    'where is': [], \n",
    "    'where do': [], \n",
    "    'which': [],\n",
    "    'who': [],\n",
    "    'others': [],\n",
    "    'bao nhiêu': [], \n",
    "    'như thế nào': [], \n",
    "    'làm gì': [], \n",
    "    'cái gì': [], \n",
    "    'ở đâu': [], \n",
    "    'màu gì': [], \n",
    "    'vật gì': [], \n",
    "    'phía bên nào': [],\n",
    "    'khác': []\n",
    "}"
   ]
  },
  {
   "cell_type": "code",
   "execution_count": 54,
   "id": "229e3038",
   "metadata": {},
   "outputs": [
    {
     "data": {
      "application/vnd.jupyter.widget-view+json": {
       "model_id": "d2479f4932574cc0b84e6ad03706f298",
       "version_major": 2,
       "version_minor": 0
      },
      "text/plain": [
       "  0%|          | 0/5015 [00:00<?, ?it/s]"
      ]
     },
     "metadata": {},
     "output_type": "display_data"
    }
   ],
   "source": [
    "for anno in tqdm(train_annotations):\n",
    "    if anno['language'] == 'en':\n",
    "        flag = False\n",
    "        for qtype in en_question_type:\n",
    "            if qtype in anno['question']:\n",
    "                data_dict[qtype].append(\n",
    "                    {\n",
    "                        \"language\": \"EN\",\n",
    "                        \"question_type\": qtype,\n",
    "                        \"question_id\": anno['id'],\n",
    "                        \"image_id\": anno['image_id'],\n",
    "                        \"image_path\": anno['img_path'],\n",
    "                        \"question\": anno['question'],\n",
    "                        \"answer\": anno['answer']\n",
    "                    }\n",
    "                )\n",
    "                flag = True\n",
    "        if not flag:\n",
    "            data_dict[\"others\"].append(\n",
    "                {\n",
    "                    \"language\": \"EN\",\n",
    "                    \"question_type\": \"others\",\n",
    "                    \"question_id\": anno['id'],\n",
    "                    \"image_id\": anno['image_id'],\n",
    "                    \"image_path\": anno['img_path'],\n",
    "                    \"question\": anno['question'],\n",
    "                    \"answer\": anno['answer']\n",
    "                }\n",
    "            )\n",
    "    elif anno['language'] == 'vi':\n",
    "        flag = False\n",
    "        for qtype in vi_question_type:\n",
    "            if qtype in anno['question']:\n",
    "                data_dict[qtype].append(\n",
    "                    {\n",
    "                        \"language\": \"VI\",\n",
    "                        \"question_type\": qtype,\n",
    "                        \"question_id\": anno['id'],\n",
    "                        \"image_id\": anno['image_id'],\n",
    "                        \"image_path\": anno['img_path'],\n",
    "                        \"question\": anno['question'],\n",
    "                        \"answer\": anno['answer']\n",
    "                    }\n",
    "                )\n",
    "                flag = True\n",
    "        if not flag:\n",
    "            data_dict[\"khác\"].append(\n",
    "                {\n",
    "                    \"language\": \"VI\",\n",
    "                    \"question_type\": \"khác\",\n",
    "                    \"question_id\": anno['id'],\n",
    "                    \"image_id\": anno['image_id'],\n",
    "                    \"image_path\": anno['img_path'],\n",
    "                    \"question\": anno['question'],\n",
    "                    \"answer\": anno['answer']\n",
    "                }\n",
    "            )"
   ]
  },
  {
   "cell_type": "code",
   "execution_count": 55,
   "id": "611d661f",
   "metadata": {},
   "outputs": [],
   "source": [
    "image_ids = []\n",
    "image_paths = []\n",
    "question_ids = []\n",
    "languages = []\n",
    "group_question_type = []\n",
    "example_questions = []\n",
    "example_answers = []\n",
    "\n",
    "for qtype, samples in data_dict.items():\n",
    "    for sample in samples:\n",
    "        languages.append(sample['language'])\n",
    "        group_question_type.append(sample['question_type'])\n",
    "        question_ids.append(sample['question_id'])\n",
    "        image_ids.append(sample['image_id'])\n",
    "        image_paths.append(sample['image_path'])\n",
    "        example_questions.append(sample['question'])\n",
    "        example_answers.append(sample['answer'])"
   ]
  },
  {
   "cell_type": "code",
   "execution_count": 56,
   "id": "58ae7a53",
   "metadata": {},
   "outputs": [],
   "source": [
    "data_gr_dict = {\n",
    "    'language': languages,\n",
    "    'question_type': group_question_type,\n",
    "    'question_id': question_ids,\n",
    "    'image_id': image_ids,\n",
    "    'image_path': image_paths,\n",
    "    'question': example_questions,\n",
    "    'answer': example_answers\n",
    "}\n",
    "\n",
    "df = pd.DataFrame.from_dict(data_gr_dict)\n",
    "\n",
    "df.to_csv('./outputs/analysis/test_data.csv', index=False, encoding='utf-8')"
   ]
  },
  {
   "cell_type": "markdown",
   "id": "469ca745",
   "metadata": {},
   "source": [
    "## Analysis result"
   ]
  },
  {
   "cell_type": "code",
   "execution_count": 57,
   "id": "8252b92d",
   "metadata": {},
   "outputs": [],
   "source": [
    "with open('./outputs/analysis/results-submit-16.json', 'r', encoding='utf-8') as f:\n",
    "    results = json.load(f)"
   ]
  },
  {
   "cell_type": "code",
   "execution_count": 59,
   "id": "afae2067",
   "metadata": {},
   "outputs": [],
   "source": [
    "with open('data/test/official_evjvqa_public_test_lang.json', 'r', encoding='utf-8') as f:\n",
    "    test = json.load(f)\n",
    "    \n",
    "images = test['images']\n",
    "annotations = test['annotations']"
   ]
  },
  {
   "cell_type": "code",
   "execution_count": 66,
   "id": "be2af44c",
   "metadata": {},
   "outputs": [],
   "source": [
    "for i, (k, v) in enumerate(results.items()):\n",
    "    if annotations[i]['id'] == int(k):\n",
    "        annotations[i]['answer_predicted'] = v"
   ]
  },
  {
   "cell_type": "code",
   "execution_count": 99,
   "id": "032efe35",
   "metadata": {},
   "outputs": [],
   "source": [
    "question_ids = []\n",
    "image_ids = []\n",
    "questions = []\n",
    "image_paths = []\n",
    "answer_preds = []\n",
    "question_types = []\n",
    "\n",
    "question_type = [\n",
    "    'how many', 'how is', 'what is', 'what color', 'what do', 'where are', 'where is', 'where do', 'which', 'who',\n",
    "    'bao nhiêu', 'như thế nào', 'làm gì', 'cái gì', 'ở đâu', 'màu gì', 'vật gì', 'phía bên nào', '\\\"ai ', \"ai?\"\n",
    "]\n",
    "\n",
    "for anno in annotations:\n",
    "    question_ids.append(anno['id'])\n",
    "    image_ids.append(anno['image_id'])\n",
    "    questions.append(anno['question'])\n",
    "    answer_preds.append(anno['answer_predicted'])\n",
    "    image_paths.append(anno['img_path'])\n",
    "    \n",
    "    flag = False\n",
    "    for qt in question_type:\n",
    "        if qt in anno['question']:\n",
    "            question_types.append(qt)\n",
    "            flag = True\n",
    "            break\n",
    "    \n",
    "    if not flag:\n",
    "        question_types.append('others')"
   ]
  },
  {
   "cell_type": "code",
   "execution_count": 100,
   "id": "19c3fdc3",
   "metadata": {},
   "outputs": [
    {
     "data": {
      "text/plain": [
       "(5015, 5015)"
      ]
     },
     "execution_count": 100,
     "metadata": {},
     "output_type": "execute_result"
    }
   ],
   "source": [
    "len(question_types), len(question_ids)"
   ]
  },
  {
   "cell_type": "code",
   "execution_count": 101,
   "id": "5dbba54f",
   "metadata": {},
   "outputs": [],
   "source": [
    "result_df = pd.DataFrame.from_dict(\n",
    "    {\n",
    "        'image_id': image_ids,\n",
    "        'question_type': question_types,\n",
    "        'question_id': question_ids,\n",
    "        'question': questions,\n",
    "        'answer_pred': answer_preds,\n",
    "        'image_path': image_paths\n",
    "    }\n",
    ")"
   ]
  },
  {
   "cell_type": "code",
   "execution_count": 102,
   "id": "e8cee52d",
   "metadata": {},
   "outputs": [],
   "source": [
    "dff = result_df.groupby(['image_id'])"
   ]
  },
  {
   "cell_type": "code",
   "execution_count": 103,
   "id": "acee3a4d",
   "metadata": {},
   "outputs": [
    {
     "data": {
      "text/html": [
       "<div>\n",
       "<style scoped>\n",
       "    .dataframe tbody tr th:only-of-type {\n",
       "        vertical-align: middle;\n",
       "    }\n",
       "\n",
       "    .dataframe tbody tr th {\n",
       "        vertical-align: top;\n",
       "    }\n",
       "\n",
       "    .dataframe thead th {\n",
       "        text-align: right;\n",
       "    }\n",
       "</style>\n",
       "<table border=\"1\" class=\"dataframe\">\n",
       "  <thead>\n",
       "    <tr style=\"text-align: right;\">\n",
       "      <th></th>\n",
       "      <th>image_id</th>\n",
       "      <th>question_type</th>\n",
       "      <th>question_id</th>\n",
       "      <th>question</th>\n",
       "      <th>answer_pred</th>\n",
       "      <th>image_path</th>\n",
       "    </tr>\n",
       "  </thead>\n",
       "  <tbody>\n",
       "    <tr>\n",
       "      <th>0</th>\n",
       "      <td>2007</td>\n",
       "      <td>how many</td>\n",
       "      <td>0</td>\n",
       "      <td>how many people are selling pho?</td>\n",
       "      <td>one</td>\n",
       "      <td>./data/test/public-test-images/00000002007.jpg</td>\n",
       "    </tr>\n",
       "    <tr>\n",
       "      <th>1</th>\n",
       "      <td>2007</td>\n",
       "      <td>others</td>\n",
       "      <td>1</td>\n",
       "      <td>what are the people standing in line for?</td>\n",
       "      <td>a store</td>\n",
       "      <td>./data/test/public-test-images/00000002007.jpg</td>\n",
       "    </tr>\n",
       "    <tr>\n",
       "      <th>2</th>\n",
       "      <td>2007</td>\n",
       "      <td>bao nhiêu</td>\n",
       "      <td>2</td>\n",
       "      <td>có bao nhiêu người đang đứng bán phở?</td>\n",
       "      <td>phở</td>\n",
       "      <td>./data/test/public-test-images/00000002007.jpg</td>\n",
       "    </tr>\n",
       "    <tr>\n",
       "      <th>3</th>\n",
       "      <td>2007</td>\n",
       "      <td>làm gì</td>\n",
       "      <td>3</td>\n",
       "      <td>nhóm người xếp hàng để làm gì?</td>\n",
       "      <td>mua phở</td>\n",
       "      <td>./data/test/public-test-images/00000002007.jpg</td>\n",
       "    </tr>\n",
       "    <tr>\n",
       "      <th>4</th>\n",
       "      <td>2007</td>\n",
       "      <td>others</td>\n",
       "      <td>4</td>\n",
       "      <td>何人がフォーを売っていますか?</td>\n",
       "      <td>フォーを売っている人が2人います</td>\n",
       "      <td>./data/test/public-test-images/00000002007.jpg</td>\n",
       "    </tr>\n",
       "    <tr>\n",
       "      <th>...</th>\n",
       "      <td>...</td>\n",
       "      <td>...</td>\n",
       "      <td>...</td>\n",
       "      <td>...</td>\n",
       "      <td>...</td>\n",
       "      <td>...</td>\n",
       "    </tr>\n",
       "    <tr>\n",
       "      <th>5000</th>\n",
       "      <td>1867</td>\n",
       "      <td>what is</td>\n",
       "      <td>5000</td>\n",
       "      <td>what is the woman in the conical hat and the g...</td>\n",
       "      <td>peeling bananas</td>\n",
       "      <td>./data/test/public-test-images/00000001867.jpg</td>\n",
       "    </tr>\n",
       "    <tr>\n",
       "      <th>5001</th>\n",
       "      <td>1867</td>\n",
       "      <td>others</td>\n",
       "      <td>5001</td>\n",
       "      <td>what other vegetables besides corn does the st...</td>\n",
       "      <td>tomatoes</td>\n",
       "      <td>./data/test/public-test-images/00000001867.jpg</td>\n",
       "    </tr>\n",
       "    <tr>\n",
       "      <th>5002</th>\n",
       "      <td>1867</td>\n",
       "      <td>how many</td>\n",
       "      <td>5002</td>\n",
       "      <td>how many people are sitting and choosing corn?</td>\n",
       "      <td>three</td>\n",
       "      <td>./data/test/public-test-images/00000001867.jpg</td>\n",
       "    </tr>\n",
       "    <tr>\n",
       "      <th>5003</th>\n",
       "      <td>1867</td>\n",
       "      <td>how many</td>\n",
       "      <td>5003</td>\n",
       "      <td>how many people do not walk?</td>\n",
       "      <td>two</td>\n",
       "      <td>./data/test/public-test-images/00000001867.jpg</td>\n",
       "    </tr>\n",
       "    <tr>\n",
       "      <th>5004</th>\n",
       "      <td>1867</td>\n",
       "      <td>how many</td>\n",
       "      <td>5004</td>\n",
       "      <td>how many people go to the market by bicycle?</td>\n",
       "      <td>one</td>\n",
       "      <td>./data/test/public-test-images/00000001867.jpg</td>\n",
       "    </tr>\n",
       "  </tbody>\n",
       "</table>\n",
       "<p>2581 rows × 6 columns</p>\n",
       "</div>"
      ],
      "text/plain": [
       "      image_id question_type  question_id  \\\n",
       "0         2007      how many            0   \n",
       "1         2007        others            1   \n",
       "2         2007     bao nhiêu            2   \n",
       "3         2007        làm gì            3   \n",
       "4         2007        others            4   \n",
       "...        ...           ...          ...   \n",
       "5000      1867       what is         5000   \n",
       "5001      1867        others         5001   \n",
       "5002      1867      how many         5002   \n",
       "5003      1867      how many         5003   \n",
       "5004      1867      how many         5004   \n",
       "\n",
       "                                               question       answer_pred  \\\n",
       "0                      how many people are selling pho?               one   \n",
       "1             what are the people standing in line for?           a store   \n",
       "2                 có bao nhiêu người đang đứng bán phở?               phở   \n",
       "3                        nhóm người xếp hàng để làm gì?           mua phở   \n",
       "4                                       何人がフォーを売っていますか?  フォーを売っている人が2人います   \n",
       "...                                                 ...               ...   \n",
       "5000  what is the woman in the conical hat and the g...   peeling bananas   \n",
       "5001  what other vegetables besides corn does the st...          tomatoes   \n",
       "5002     how many people are sitting and choosing corn?             three   \n",
       "5003                       how many people do not walk?               two   \n",
       "5004       how many people go to the market by bicycle?               one   \n",
       "\n",
       "                                          image_path  \n",
       "0     ./data/test/public-test-images/00000002007.jpg  \n",
       "1     ./data/test/public-test-images/00000002007.jpg  \n",
       "2     ./data/test/public-test-images/00000002007.jpg  \n",
       "3     ./data/test/public-test-images/00000002007.jpg  \n",
       "4     ./data/test/public-test-images/00000002007.jpg  \n",
       "...                                              ...  \n",
       "5000  ./data/test/public-test-images/00000001867.jpg  \n",
       "5001  ./data/test/public-test-images/00000001867.jpg  \n",
       "5002  ./data/test/public-test-images/00000001867.jpg  \n",
       "5003  ./data/test/public-test-images/00000001867.jpg  \n",
       "5004  ./data/test/public-test-images/00000001867.jpg  \n",
       "\n",
       "[2581 rows x 6 columns]"
      ]
     },
     "execution_count": 103,
     "metadata": {},
     "output_type": "execute_result"
    }
   ],
   "source": [
    "dff.head()"
   ]
  },
  {
   "cell_type": "code",
   "execution_count": 104,
   "id": "87e9b82c",
   "metadata": {},
   "outputs": [],
   "source": [
    "result_df.to_csv('./outputs/analysis/result-analysis.csv', index=False, encoding='utf-8')"
   ]
  },
  {
   "cell_type": "code",
   "execution_count": 86,
   "id": "e323143f",
   "metadata": {},
   "outputs": [],
   "source": [
    "with open('./outputs/analysis/results-0.36bleu.json', 'r', encoding='utf-8') as f:\n",
    "    result2 = json.load(f)"
   ]
  },
  {
   "cell_type": "code",
   "execution_count": 87,
   "id": "17d4ae62",
   "metadata": {},
   "outputs": [],
   "source": [
    "ks = []\n",
    "vleus = []\n",
    "for k, v in result2.items():\n",
    "    ks.append(k)\n",
    "    vleus.append(v)\n",
    "    \n",
    "rdf = pd.DataFrame.from_dict(\n",
    "    {\n",
    "        'id': ks,\n",
    "        'answer': vleus\n",
    "    }\n",
    ")\n",
    "\n",
    "rdf.to_csv('./outputs/analysis/result-2.csv', index=False, encoding='utf-8')"
   ]
  },
  {
   "cell_type": "code",
   "execution_count": 105,
   "id": "230f97f4",
   "metadata": {},
   "outputs": [
    {
     "name": "stdout",
     "output_type": "stream",
     "text": [
      "bao nhiêu\n",
      "như thế nào\n",
      "làm gì\n",
      "cái gì\n",
      "ở đâu\n",
      "màu gì\n",
      "vật gì\n",
      "phía bên nào\n"
     ]
    }
   ],
   "source": [
    "vi_question_type = [\n",
    "    'bao nhiêu', 'như thế nào', 'làm gì', 'cái gì', 'ở đâu', 'màu gì', 'vật gì', 'phía bên nào'\n",
    "]\n",
    "\n",
    "for vi in vi_question_type:\n",
    "    print(vi)"
   ]
  },
  {
   "cell_type": "code",
   "execution_count": null,
   "id": "64e0eaa9",
   "metadata": {},
   "outputs": [],
   "source": []
  }
 ],
 "metadata": {
  "kernelspec": {
   "display_name": "Python 3 (ipykernel)",
   "language": "python",
   "name": "python3"
  },
  "language_info": {
   "codemirror_mode": {
    "name": "ipython",
    "version": 3
   },
   "file_extension": ".py",
   "mimetype": "text/x-python",
   "name": "python",
   "nbconvert_exporter": "python",
   "pygments_lexer": "ipython3",
   "version": "3.7.1"
  },
  "vscode": {
   "interpreter": {
    "hash": "059c3606061902c6a30161bdcedcf47a179ee48a2380f3c0aaeaa7e205cec67a"
   }
  }
 },
 "nbformat": 4,
 "nbformat_minor": 5
}
