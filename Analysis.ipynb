{
 "cells": [
  {
   "cell_type": "code",
   "execution_count": 3,
   "id": "ef3db03f",
   "metadata": {},
   "outputs": [],
   "source": [
    "import json\n",
    "from tqdm.autonotebook import tqdm"
   ]
  },
  {
   "cell_type": "code",
   "execution_count": 2,
   "id": "53ff700a",
   "metadata": {},
   "outputs": [],
   "source": [
    "with open('./data/test/evjvqa_public_test-lang-qtype-answer.json', 'r', encoding='utf-8') as f:\n",
    "    test_data = json.load(f)\n",
    "    \n",
    "test_annotations = test_data['annotations']"
   ]
  },
  {
   "cell_type": "code",
   "execution_count": 7,
   "id": "17e66de5",
   "metadata": {},
   "outputs": [
    {
     "data": {
      "application/vnd.jupyter.widget-view+json": {
       "model_id": "adb4bfc7752f43e8b5b71c4e862657b0",
       "version_major": 2,
       "version_minor": 0
      },
      "text/plain": [
       "  0%|          | 0/5015 [00:00<?, ?it/s]"
      ]
     },
     "metadata": {},
     "output_type": "display_data"
    },
    {
     "data": {
      "text/plain": [
       "{'HOW_MANY': 340,\n",
       " 'OTHERS': 260,\n",
       " 'WHAT_COLOR': 211,\n",
       " 'WHICH': 62,\n",
       " 'WHO': 89,\n",
       " 'WHAT_IS': 334,\n",
       " 'WHERE': 239,\n",
       " 'WHAT_DO': 91,\n",
       " 'HOW': 25}"
      ]
     },
     "execution_count": 7,
     "metadata": {},
     "output_type": "execute_result"
    }
   ],
   "source": [
    "qtype_dict = {}\n",
    "\n",
    "for anno in tqdm(test_annotations):\n",
    "    if anno['language'] == 'ja':\n",
    "        if anno['question_type'] in qtype_dict:\n",
    "            qtype_dict[anno['question_type']] += 1\n",
    "        else:\n",
    "            qtype_dict[anno['question_type']] = 1\n",
    "        \n",
    "qtype_dict"
   ]
  },
  {
   "cell_type": "code",
   "execution_count": null,
   "id": "73f782f5",
   "metadata": {},
   "outputs": [],
   "source": []
  }
 ],
 "metadata": {
  "kernelspec": {
   "display_name": "Python 3 (ipykernel)",
   "language": "python",
   "name": "python3"
  },
  "language_info": {
   "codemirror_mode": {
    "name": "ipython",
    "version": 3
   },
   "file_extension": ".py",
   "mimetype": "text/x-python",
   "name": "python",
   "nbconvert_exporter": "python",
   "pygments_lexer": "ipython3",
   "version": "3.7.0"
  },
  "vscode": {
   "interpreter": {
    "hash": "059c3606061902c6a30161bdcedcf47a179ee48a2380f3c0aaeaa7e205cec67a"
   }
  }
 },
 "nbformat": 4,
 "nbformat_minor": 5
}
